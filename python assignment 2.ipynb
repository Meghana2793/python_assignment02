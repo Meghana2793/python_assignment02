{
 "cells": [
  {
   "cell_type": "code",
   "execution_count": 3,
   "id": "12fccd8e-e167-49a9-9380-596593b279a4",
   "metadata": {},
   "outputs": [
    {
     "name": "stdin",
     "output_type": "stream",
     "text": [
      "enter a string pwskills\n"
     ]
    },
    {
     "name": "stdout",
     "output_type": "stream",
     "text": [
      "sllikswp\n"
     ]
    }
   ],
   "source": [
    "\n",
    "#1. Write a program to reverse a string.\\n\",\n",
    "s=input(\"enter a string\")\n",
    "print(s[: :-1])\n",
    "    \n",
    "            \n",
    "    "
   ]
  },
  {
   "cell_type": "code",
   "execution_count": 5,
   "id": "a7e2f111-e65c-4a4a-8f4d-391bc3d78fb7",
   "metadata": {},
   "outputs": [
    {
     "name": "stdin",
     "output_type": "stream",
     "text": [
      "enter a string: mom\n"
     ]
    },
    {
     "name": "stdout",
     "output_type": "stream",
     "text": [
      "palindrome\n"
     ]
    }
   ],
   "source": [
    "#2. Check if a string is a palindrome.\n",
    "s=input(\"enter a string:\")\n",
    "if s[: :1] == s[: :-1]:\n",
    "        print(\"palindrome\")\n",
    "else:\n",
    "        print(\"not a palindrome\")"
   ]
  },
  {
   "cell_type": "code",
   "execution_count": 7,
   "id": "59cdea69-cdf9-420b-b676-b7c5a56a2780",
   "metadata": {},
   "outputs": [
    {
     "name": "stdin",
     "output_type": "stream",
     "text": [
      "enter a string: pwskills\n"
     ]
    },
    {
     "name": "stdout",
     "output_type": "stream",
     "text": [
      "PWSKILLS\n"
     ]
    }
   ],
   "source": [
    "#3. Convert a string to uppercase\n",
    "s=input(\"enter a string:\")\n",
    "x=s.upper()\n",
    "print(x)"
   ]
  },
  {
   "cell_type": "code",
   "execution_count": 8,
   "id": "d0b3e700-f7cf-44a5-83ff-8fe32288c15a",
   "metadata": {},
   "outputs": [
    {
     "name": "stdin",
     "output_type": "stream",
     "text": [
      "enter a string: PWSKILLS\n"
     ]
    },
    {
     "name": "stdout",
     "output_type": "stream",
     "text": [
      "pwskills\n"
     ]
    }
   ],
   "source": [
    "#4. Convert a string to lowercase.\\n\",\n",
    "s=input(\"enter a string:\")\n",
    "x=s.lower()\n",
    "print(x)"
   ]
  },
  {
   "cell_type": "code",
   "execution_count": 10,
   "id": "68f9089e-577c-4ba7-bd93-5f775d7b4cef",
   "metadata": {},
   "outputs": [
    {
     "name": "stdin",
     "output_type": "stream",
     "text": [
      "enter a string: i love india\n"
     ]
    },
    {
     "name": "stdout",
     "output_type": "stream",
     "text": [
      "6\n"
     ]
    }
   ],
   "source": [
    "#5. Count the number of vowels in a string.\n",
    "string=input(\"enter a string:\")\n",
    "vowels = ['a', 'e', 'i', 'o', 'u']\n",
    "count=0\n",
    "s=string.lower()\n",
    "for i in s:\n",
    "     if i in vowels:\n",
    "        count+=1\n",
    "print(count)"
   ]
  },
  {
   "cell_type": "code",
   "execution_count": 13,
   "id": "18c29d2e-2f82-47f1-80ed-8a4a55242b0e",
   "metadata": {},
   "outputs": [
    {
     "name": "stdin",
     "output_type": "stream",
     "text": [
      "enter a string: pwskills\n"
     ]
    },
    {
     "name": "stdout",
     "output_type": "stream",
     "text": [
      "7\n"
     ]
    }
   ],
   "source": [
    " #6. Count the number of consonants in a string.\\n\",\n",
    "string=input(\"enter a string:\")\n",
    "vowels = ['a', 'e', 'i', 'o', 'u']\n",
    "count=0\n",
    "s=string.lower()\n",
    "for i  in s:\n",
    "    if i not in vowels:\n",
    "        count+=1\n",
    "print(count)"
   ]
  },
  {
   "cell_type": "code",
   "execution_count": 14,
   "id": "e278dd8a-5223-4c97-aaaf-41b46326d2d2",
   "metadata": {},
   "outputs": [
    {
     "name": "stdin",
     "output_type": "stream",
     "text": [
      "enter a string:     hello world    \n"
     ]
    },
    {
     "name": "stdout",
     "output_type": "stream",
     "text": [
      "hello world\n"
     ]
    }
   ],
   "source": [
    " #7. Remove all whitespaces from a string.\n",
    "s=input(\"enter a string:\")\n",
    "x=s.strip()\n",
    "print(x)"
   ]
  },
  {
   "cell_type": "code",
   "execution_count": 15,
   "id": "c660e114-6046-4434-ab3e-ef121eb9dafa",
   "metadata": {},
   "outputs": [
    {
     "name": "stdin",
     "output_type": "stream",
     "text": [
      "enter a string: pwskills\n"
     ]
    },
    {
     "name": "stdout",
     "output_type": "stream",
     "text": [
      "8\n"
     ]
    }
   ],
   "source": [
    "#8. Find the length of a string without using the `len()` function.\\n\",\n",
    "string=input(\"enter a string:\")\n",
    "a=0\n",
    "for letter in string:\n",
    "    a=a+1\n",
    "print(a)"
   ]
  },
  {
   "cell_type": "code",
   "execution_count": null,
   "id": "afdd41cb-6ab2-42cb-b891-3c62e5c31ff3",
   "metadata": {},
   "outputs": [],
   "source": [
    "#9. Check if a string contains a specific word.\n",
    "s=input(\"enter a string:\")\n",
    "word=input(\"enter a word:\")\n",
    "if word in s:\n",
    "    print(\"yes\")\n",
    "else:\n",
    "    print(\"no\")"
   ]
  },
  {
   "cell_type": "code",
   "execution_count": 17,
   "id": "5ab1a33e-dcc3-4850-bcf4-7c4defe5746e",
   "metadata": {},
   "outputs": [
    {
     "name": "stdout",
     "output_type": "stream",
     "text": [
      "i love hyderabad\n"
     ]
    }
   ],
   "source": [
    " #10. Replace a word in a string with another word.\n",
    "s=\"i like hyderabad\"\n",
    "x=s.replace(\"like\",\"love\")\n",
    "print(x)\n"
   ]
  },
  {
   "cell_type": "code",
   "execution_count": 20,
   "id": "f2a7d3c0-068e-4dee-9b67-69646ef10edd",
   "metadata": {},
   "outputs": [
    {
     "name": "stdin",
     "output_type": "stream",
     "text": [
      "enter a string: i love hyd and i love biryani\n",
      "enter a word: love\n"
     ]
    },
    {
     "name": "stdout",
     "output_type": "stream",
     "text": [
      "2\n"
     ]
    }
   ],
   "source": [
    "#11. Count the occurrences of a word in a string.\n",
    "s=input(\"enter a string:\")\n",
    "word=input(\"enter a word:\")\n",
    "x=s.split()\n",
    "count=0\n",
    "for w in x:\n",
    "    if w == word:\n",
    "        count+=1\n",
    "print(count)"
   ]
  },
  {
   "cell_type": "code",
   "execution_count": 21,
   "id": "72b65bb9-a3b2-4a38-8d92-4d8dcd0085d6",
   "metadata": {},
   "outputs": [
    {
     "name": "stdin",
     "output_type": "stream",
     "text": [
      "enter a string: i love hyd and i love biryani\n",
      "enter a word: love\n"
     ]
    },
    {
     "name": "stdout",
     "output_type": "stream",
     "text": [
      "2\n"
     ]
    }
   ],
   "source": [
    "#12. Find the first occurrence of a word in a string.\\n\",\n",
    "s=input(\"enter a string:\")\n",
    "word=input(\"enter a word:\")\n",
    "x=s.find(word)\n",
    "print(x)"
   ]
  },
  {
   "cell_type": "code",
   "execution_count": 22,
   "id": "d413e616-9dc7-4f55-ae2f-0a98c9037549",
   "metadata": {},
   "outputs": [
    {
     "name": "stdin",
     "output_type": "stream",
     "text": [
      "enter a string: i love hyd and i love biryani\n",
      "enter a word: love\n"
     ]
    },
    {
     "name": "stdout",
     "output_type": "stream",
     "text": [
      "17\n"
     ]
    }
   ],
   "source": [
    "#13. Find the last occurrence of a word in a string.\\n\",\n",
    "s=input(\"enter a string:\")\n",
    "word=input(\"enter a word:\")\n",
    "x=s.rindex(word)\n",
    "print(x)\n"
   ]
  },
  {
   "cell_type": "code",
   "execution_count": 23,
   "id": "ea4b5ed3-b320-404b-a30a-8a4681788e0d",
   "metadata": {},
   "outputs": [
    {
     "name": "stdin",
     "output_type": "stream",
     "text": [
      "enter a string: iam a quick learner\n"
     ]
    },
    {
     "name": "stdout",
     "output_type": "stream",
     "text": [
      "list of words in string: ['iam', 'a', 'quick', 'learner']\n"
     ]
    }
   ],
   "source": [
    " #14. Split a string into a list of words.\n",
    "s=input(\"enter a string:\")\n",
    "x=list(s.split())\n",
    "print(\"list of words in string:\",x)"
   ]
  },
  {
   "cell_type": "code",
   "execution_count": 24,
   "id": "dc005bc3-c839-46b3-8e1d-a8d91874839d",
   "metadata": {},
   "outputs": [
    {
     "name": "stdout",
     "output_type": "stream",
     "text": [
      "iam a quick learner\n"
     ]
    }
   ],
   "source": [
    "#15. Join a list of words into a string.\n",
    "x=[\"iam\",\"a\",\"quick\",\"learner\"]\n",
    "y=' '.join(x)\n",
    "print(y)"
   ]
  },
  {
   "cell_type": "code",
   "execution_count": 27,
   "id": "b65b71e6-461f-4efb-8514-7ffedfd0af94",
   "metadata": {},
   "outputs": [
    {
     "name": "stdin",
     "output_type": "stream",
     "text": [
      "enter a string: iam a quick learner\n"
     ]
    },
    {
     "name": "stdout",
     "output_type": "stream",
     "text": [
      "iam_a_quick_learner\n"
     ]
    }
   ],
   "source": [
    "'''16. Convert a string where words are separated by spaces to one where words\\n\",\n",
    "    \"are separated by underscores.'''\n",
    "x=input(\"enter a string:\")\n",
    "print(x.replace(\" \",\"_\"))"
   ]
  },
  {
   "cell_type": "code",
   "execution_count": null,
   "id": "94d1082d-db3e-4b34-85a4-fea2867b97b2",
   "metadata": {},
   "outputs": [],
   "source": []
  }
 ],
 "metadata": {
  "kernelspec": {
   "display_name": "Python 3 (ipykernel)",
   "language": "python",
   "name": "python3"
  },
  "language_info": {
   "codemirror_mode": {
    "name": "ipython",
    "version": 3
   },
   "file_extension": ".py",
   "mimetype": "text/x-python",
   "name": "python",
   "nbconvert_exporter": "python",
   "pygments_lexer": "ipython3",
   "version": "3.10.8"
  }
 },
 "nbformat": 4,
 "nbformat_minor": 5
}
{
 "cells": [
  {
   "cell_type": "code",
   "execution_count": 2,
   "id": "07dad810-ea20-4fe9-9512-2a45a980c7de",
   "metadata": {},
   "outputs": [
    {
     "name": "stdout",
     "output_type": "stream",
     "text": [
      "text starts with prefix\n"
     ]
    }
   ],
   "source": [
    "#17. Check if a string starts with a specific word or phrase.\n",
    "def starts_with(text,prefix):\n",
    "    is_start=text.startswith(prefix)\n",
    "    return is_start\n",
    "result=starts_with(\"iam learning python\",\"iam\")\n",
    "if result:\n",
    "    print(\"text starts with prefix\")\n",
    "else:\n",
    "    print(\"text not starts with prefix\")"
   ]
  },
  {
   "cell_type": "code",
   "execution_count": 6,
   "id": "873a8bbe-b0b8-4c45-9a94-814c00619d5b",
   "metadata": {},
   "outputs": [
    {
     "name": "stdout",
     "output_type": "stream",
     "text": [
      "text ends with suffix\n"
     ]
    }
   ],
   "source": [
    "#18. Check if a string ends with a specific word or phrase.\n",
    "def ends_with(text,suffix):\n",
    "    is_end=text.endswith(suffix)\n",
    "    return is_end\n",
    "result=ends_with(\"iam learning python\",\"python\")\n",
    "if result:\n",
    "    print(\"text ends with suffix\")\n",
    "else:\n",
    "    print(\"text not ends with suffix\")"
   ]
  },
  {
   "cell_type": "code",
   "execution_count": 14,
   "id": "730605f4-821a-4f4d-afb0-7438d444d9d3",
   "metadata": {},
   "outputs": [
    {
     "name": "stdin",
     "output_type": "stream",
     "text": [
      "enter a string: hello world\n"
     ]
    },
    {
     "name": "stdout",
     "output_type": "stream",
     "text": [
      "Hello World\n"
     ]
    }
   ],
   "source": [
    "#19. Convert a string to title case (e.g., \"hello world\" to \"Hello World\").\n",
    "s=input(\"enter a string:\")\n",
    "x=s.title()\n",
    "print(x)"
   ]
  },
  {
   "cell_type": "code",
   "execution_count": 18,
   "id": "9d6eb6e5-509d-41e6-9cd1-56e53428a67e",
   "metadata": {},
   "outputs": [
    {
     "name": "stdin",
     "output_type": "stream",
     "text": [
      "enter a string: iam learning python\n"
     ]
    },
    {
     "name": "stdout",
     "output_type": "stream",
     "text": [
      "longest word: learning\n"
     ]
    }
   ],
   "source": [
    "#20. Find the longest word in a string.\n",
    "s=input(\"enter a string:\")\n",
    "words=s.split()\n",
    "longest_word=' '\n",
    "for word in words:\n",
    "    if len(word)>len(longest_word):\n",
    "        longest_word=word\n",
    "print(\"longest word:\",longest_word)\n",
    "    "
   ]
  },
  {
   "cell_type": "code",
   "execution_count": 22,
   "id": "1f67bac3-0b3d-4c0e-a57c-f510a3e1af63",
   "metadata": {},
   "outputs": [
    {
     "name": "stdin",
     "output_type": "stream",
     "text": [
      "enter a string: iam learning python\n"
     ]
    },
    {
     "name": "stdout",
     "output_type": "stream",
     "text": [
      "shortest word: iam\n"
     ]
    }
   ],
   "source": [
    "#21. Find the shortest word in a string.\n",
    "s=input(\"enter a string:\")\n",
    "words=s.split()\n",
    "shortest_word=words[0]\n",
    "for word in words:\n",
    "    if len(word)<len(shortest_word):\n",
    "        shortest_word=word\n",
    "print(\"shortest word:\",shortest_word)\n",
    "    "
   ]
  },
  {
   "cell_type": "code",
   "execution_count": 29,
   "id": "19b709b8-4277-40f7-9a7c-acc8e3217ef8",
   "metadata": {},
   "outputs": [
    {
     "name": "stdin",
     "output_type": "stream",
     "text": [
      "enter a string: hello world\n"
     ]
    },
    {
     "name": "stdout",
     "output_type": "stream",
     "text": [
      "world hello\n"
     ]
    }
   ],
   "source": [
    "#22. Reverse the order of words in a string.\n",
    "s=input(\"enter a string:\")\n",
    "words = s.split(' ')\n",
    "string = []\n",
    "for word in words:\n",
    "    string.insert(0, word)\n",
    " \n",
    " \n",
    "print(\" \".join(string))\n",
    " "
   ]
  },
  {
   "cell_type": "code",
   "execution_count": 34,
   "id": "c308740f-bb11-46ec-91ab-b07f949f8c06",
   "metadata": {},
   "outputs": [
    {
     "name": "stdin",
     "output_type": "stream",
     "text": [
      "enter a string: pwskills123\n"
     ]
    },
    {
     "name": "stdout",
     "output_type": "stream",
     "text": [
      "True\n"
     ]
    }
   ],
   "source": [
    "#23. Check if a string is alphanumeric.\n",
    "s=input(\"enter a string:\")\n",
    "x=s.isalnum()\n",
    "print(x)\n"
   ]
  },
  {
   "cell_type": "code",
   "execution_count": 39,
   "id": "7de2ed80-1741-4457-b4ea-d355b02a2e59",
   "metadata": {},
   "outputs": [
    {
     "name": "stdin",
     "output_type": "stream",
     "text": [
      "enter a string: pwskills24\n"
     ]
    },
    {
     "name": "stdout",
     "output_type": "stream",
     "text": [
      "24"
     ]
    }
   ],
   "source": [
    "#24. Extract all digits from a string.\n",
    "s=input(\"enter a string:\")\n",
    "for i in s:\n",
    "    if(i.isdigit()):\n",
    "        print(i,end=\"\")"
   ]
  },
  {
   "cell_type": "code",
   "execution_count": 40,
   "id": "2c22b614-872b-43d9-9a93-05fe083177d5",
   "metadata": {},
   "outputs": [
    {
     "name": "stdin",
     "output_type": "stream",
     "text": [
      "enter a string: pwskills24\n"
     ]
    },
    {
     "name": "stdout",
     "output_type": "stream",
     "text": [
      "pwskills"
     ]
    }
   ],
   "source": [
    "#25. Extract all alphabets from a string.\n",
    "s=input(\"enter a string:\")\n",
    "for i in s:\n",
    "    if(i.isalpha()):\n",
    "        print(i,end=\"\")"
   ]
  },
  {
   "cell_type": "code",
   "execution_count": 48,
   "id": "710da4f8-209a-4150-aff1-d8fe23179b49",
   "metadata": {},
   "outputs": [
    {
     "name": "stdin",
     "output_type": "stream",
     "text": [
      "enter a string: HelloWorld\n"
     ]
    },
    {
     "name": "stdout",
     "output_type": "stream",
     "text": [
      "2\n"
     ]
    }
   ],
   "source": [
    "#26. Count the number of uppercase letters in a string.\n",
    "s=input(\"enter a string:\")\n",
    "count=0\n",
    "for letter in s:\n",
    "    if letter==letter.upper():\n",
    "        count+=1\n",
    "print(count)\n",
    "    "
   ]
  },
  {
   "cell_type": "code",
   "execution_count": 49,
   "id": "23008d48-b88f-451a-b2dd-6ee19d810e14",
   "metadata": {},
   "outputs": [
    {
     "name": "stdin",
     "output_type": "stream",
     "text": [
      "enter a string: HelloWorld\n"
     ]
    },
    {
     "name": "stdout",
     "output_type": "stream",
     "text": [
      "8\n"
     ]
    }
   ],
   "source": [
    "#27. Count the number of lowercase letters in a string.\n",
    "s=input(\"enter a string:\")\n",
    "count=0\n",
    "for letter in s:\n",
    "    if letter==letter.lower():\n",
    "        count+=1\n",
    "print(count)"
   ]
  },
  {
   "cell_type": "code",
   "execution_count": 51,
   "id": "4888b08b-c965-4aa2-a56b-0861592034d1",
   "metadata": {},
   "outputs": [
    {
     "name": "stdin",
     "output_type": "stream",
     "text": [
      "enter a string: HelloWorld\n"
     ]
    },
    {
     "name": "stdout",
     "output_type": "stream",
     "text": [
      "hELLOwORLD\n"
     ]
    }
   ],
   "source": [
    "#28. Swap the case of each character in a string.\n",
    "s=input(\"enter a string:\")\n",
    "x=s.swapcase()\n",
    "print(x)\n"
   ]
  },
  {
   "cell_type": "code",
   "execution_count": 61,
   "id": "14e804d4-9f96-488b-8c58-b5d18b584da6",
   "metadata": {},
   "outputs": [
    {
     "name": "stdout",
     "output_type": "stream",
     "text": [
      "pwskills \n"
     ]
    }
   ],
   "source": [
    "s=\"pwskills@\"\n",
    "x=s.replace(\"@\",\" \")\n",
    "print(x)"
   ]
  },
  {
   "cell_type": "code",
   "execution_count": null,
   "id": "bb390e54-f76c-46d9-84e3-bc7300c3b6fb",
   "metadata": {},
   "outputs": [],
   "source": []
  }
 ],
 "metadata": {
  "kernelspec": {
   "display_name": "Python 3 (ipykernel)",
   "language": "python",
   "name": "python3"
  },
  "language_info": {
   "codemirror_mode": {
    "name": "ipython",
    "version": 3
   },
   "file_extension": ".py",
   "mimetype": "text/x-python",
   "name": "python",
   "nbconvert_exporter": "python",
   "pygments_lexer": "ipython3",
   "version": "3.10.8"
  }
 },
 "nbformat": 4,
 "nbformat_minor": 5
}
{
   "cell_type": "code",
   "execution_count": 61,
   "id": "14e804d4-9f96-488b-8c58-b5d18b584da6",
   "metadata": {},
   "outputs": [
    {
     "name": "stdout",
     "output_type": "stream",
     "text": [
      "pwskills \n"
     ]
    }
   ],
   "source": [
    "#29. Remove a specific word from a string.\n",
    "s=\"pwskills@\"\n",
    "x=s.replace(\"@\",\" \")\n",
    "print(x)"
   ]
  },
  {
   "cell_type": "code",
   "execution_count": null,
   "id": "bb390e54-f76c-46d9-84e3-bc7300c3b6fb",
   "metadata": {},
   "outputs": [],
   "source": []
  }
 ],
 "metadata": {
  "kernelspec": {
   "display_name": "Python 3 (ipykernel)",
   "language": "python",
   "name": "python3"
  },
  "language_info": {
   "codemirror_mode": {
    "name": "ipython",
    "version": 3
   },
   "file_extension": ".py",
   "mimetype": "text/x-python",
   "name": "python",
   "nbconvert_exporter": "python",
   "pygments_lexer": "ipython3",
   "version": "3.10.8"
  }
 },
 "nbformat": 4,
 "nbformat_minor": 5
}
{
 "cells": [
  {
   "cell_type": "code",
   "execution_count": 39,
   "id": "9799aadc-6ab5-46a4-886c-28fb0365f3e6",
   "metadata": {},
   "outputs": [
    {
     "name": "stdin",
     "output_type": "stream",
     "text": [
      "Enter the Email Address:  pwskills@gmail.com\n"
     ]
    },
    {
     "name": "stdout",
     "output_type": "stream",
     "text": [
      "Valid Email Address\n"
     ]
    }
   ],
   "source": [
    "#30. Check if a string is a valid email address.\n",
    "def valid_email(email):\n",
    "    if email.count('@') != 1:\n",
    "        return False\n",
    "    local_part, domain_part = email.split('@')\n",
    "    if len(local_part) == 0 or len(domain_part) == 0:\n",
    "              return False\n",
    " \n",
    "    if domain_part.find('.') == -1:\n",
    "                 return False\n",
    "\n",
    "    return True\n",
    "email = input(\"Enter the Email Address: \")\n",
    "\n",
    "if valid_email(email):\n",
    "    print(\"Valid Email Address\")\n",
    "else:\n",
    "    print(\"Invalid Email Address\")"
   ]
  },
  {
   "cell_type": "code",
   "execution_count": 43,
   "id": "8d3974b7-7c12-4b41-990f-8871017db47d",
   "metadata": {},
   "outputs": [
    {
     "name": "stdout",
     "output_type": "stream",
     "text": [
      "pwskills\n"
     ]
    }
   ],
   "source": [
    "#31. Extract the username from an email address string.\n",
    "def extract_username(email):\n",
    "    username,domainpart=email.split(\"@\")\n",
    "    return username\n",
    "result=extract_username(\"pwskills@gmail.com\")\n",
    "print(result)"
   ]
  },
  {
   "cell_type": "code",
   "execution_count": 46,
   "id": "188e3744-093f-4ae9-ab2b-482b72034e7a",
   "metadata": {},
   "outputs": [
    {
     "name": "stdout",
     "output_type": "stream",
     "text": [
      "24gmail.com\n"
     ]
    }
   ],
   "source": [
    "#32. Extract the domain name from an email address string.\n",
    "def extract_domainpart(email):\n",
    "    username,domainpart=email.split(\"@\")\n",
    "    return domainpart\n",
    "result=extract_domainpart(\"pwskills@24gmail.com\")\n",
    "print(result)"
   ]
  },
  {
   "cell_type": "code",
   "execution_count": 47,
   "id": "7d756e38-d128-4dad-be8f-fc1e6827ea0e",
   "metadata": {},
   "outputs": [
    {
     "name": "stdout",
     "output_type": "stream",
     "text": [
      "hello world\n"
     ]
    }
   ],
   "source": [
    "#33. Replace multiple spaces in a string with a single space.\n",
    "def replace_multiplespaces(string):\n",
    "    s=\" \".join(string.split())\n",
    "    return s\n",
    "result=replace_multiplespaces(\"hello        world\")\n",
    "print(result)"
   ]
  },
  {
   "cell_type": "code",
   "execution_count": 58,
   "id": "24df1279-d9a9-4a53-8750-11bbeab76d9a",
   "metadata": {},
   "outputs": [
    {
     "name": "stdout",
     "output_type": "stream",
     "text": [
      "valid url\n"
     ]
    }
   ],
   "source": [
    "#34. Check if a string is a valid URL.\n",
    "def find(string):\n",
    "    s=string.split()\n",
    "    for i in s:\n",
    "        if i.startswith(\"https:\") or i.startswith(\"http:\"):\n",
    "          print(\"valid url\")\n",
    "        else:\n",
    "            print(\"invalid url\")\n",
    "find(\"https://pwskills.com/course/full-stack-data-science-pro\")"
   ]
  },
  {
   "cell_type": "code",
   "execution_count": 59,
   "id": "0caebde1-8e5d-4cee-9920-95f47cac4b66",
   "metadata": {},
   "outputs": [
    {
     "name": "stdout",
     "output_type": "stream",
     "text": [
      "https\n"
     ]
    }
   ],
   "source": [
    "#35. Extract the protocol (http or https) from a URL string.\n",
    "def extract_protocol(url):\n",
    "    protocol,protocol_end=url.split(\"://\")\n",
    "    return protocol\n",
    "result=extract_protocol(\"https://pwskills.com/course/full-stack-data-science-pro\")\n",
    "print(result)   "
   ]
  },
  {
   "cell_type": "code",
   "execution_count": 63,
   "id": "8fd35e0c-2f1a-42cd-8aa6-7e12f934d2de",
   "metadata": {},
   "outputs": [
    {
     "name": "stdin",
     "output_type": "stream",
     "text": [
      "enter a string: pwskills\n"
     ]
    },
    {
     "name": "stdout",
     "output_type": "stream",
     "text": [
      "p:1,w:1,s:2,k:1,i:1,l:2,l:2,s:2,"
     ]
    }
   ],
   "source": [
    "#36. Find the frequency of each character in a string.\n",
    "s=input(\"enter a string:\")\n",
    "for i in s:\n",
    "    frequency=s.count(i)\n",
    "    print(str(i) + \":\" + str(frequency) , end=\",\")\n",
    "    "
   ]
  },
  {
   "cell_type": "code",
   "execution_count": null,
   "id": "27d1f774-7f58-4453-8c58-3feea78b68d7",
   "metadata": {},
   "outputs": [],
   "source": []
  }
 ],
 "metadata": {
  "kernelspec": {
   "display_name": "Python 3 (ipykernel)",
   "language": "python",
   "name": "python3"
  },
  "language_info": {
   "codemirror_mode": {
    "name": "ipython",
    "version": 3
   },
   "file_extension": ".py",
   "mimetype": "text/x-python",
   "name": "python",
   "nbconvert_exporter": "python",
   "pygments_lexer": "ipython3",
   "version": "3.10.8"
  }
 },
 "nbformat": 4,
 "nbformat_minor": 5
}
{
 "cells": [
  {
   "cell_type": "code",
   "execution_count": 14,
   "id": "0e7e4fe1-5530-4ea7-8341-d011bece507f",
   "metadata": {},
   "outputs": [
    {
     "name": "stdout",
     "output_type": "stream",
     "text": [
      "hello good morning everyone\n"
     ]
    }
   ],
   "source": [
    "#37.Remove all punctuation from a string.\n",
    "import string\n",
    "def remove_punctuation(input_string): \n",
    "\n",
    "\n",
    "    translator = str.maketrans('','', string.punctuation) \n",
    "    clean_string = input_string.translate(translator)\n",
    "    return clean_string\n",
    "input_str =\"hello! good morning,@ everyone\"\n",
    "cleaned_str = remove_punctuation(input_str)\n",
    "print(cleaned_str)"
   ]
  },
  {
   "cell_type": "code",
   "execution_count": 21,
   "id": "1be722c0-7681-4a5b-9b28-3a1d3ceb7531",
   "metadata": {},
   "outputs": [
    {
     "name": "stdout",
     "output_type": "stream",
     "text": [
      "True\n",
      "False\n",
      "False\n"
     ]
    }
   ],
   "source": [
    "#38.Check if a string contains only digits.\n",
    "def contains_alldigits(string):\n",
    "    return string.isdigit()\n",
    "result1=contains_alldigits(\"2345\")\n",
    "result2=contains_alldigits(\"pwskills2345\")\n",
    "result3=contains_alldigits(\"pwskills\")\n",
    "print(result1)\n",
    "print(result2)\n",
    "print(result3)"
   ]
  },
  {
   "cell_type": "code",
   "execution_count": 23,
   "id": "fcb7a33c-f6dd-4928-bea9-c9a3b681aef5",
   "metadata": {},
   "outputs": [
    {
     "name": "stdout",
     "output_type": "stream",
     "text": [
      "True False False\n"
     ]
    }
   ],
   "source": [
    "#39. Check if a string contains only alphabets.\n",
    "def contains_allalpha(string):\n",
    "    return string.isalpha()\n",
    "result1=contains_allalpha(\"pwskills\")\n",
    "result2=contains_allalpha(\"pwskills34577\")\n",
    "result3=contains_allalpha(\"12345\")\n",
    "print(result1,result2,result3)"
   ]
  },
  {
   "cell_type": "code",
   "execution_count": 24,
   "id": "78d93312-2472-46d7-881b-6fb73af07f4e",
   "metadata": {},
   "outputs": [
    {
     "name": "stdin",
     "output_type": "stream",
     "text": [
      "enter a string: pwskills\n"
     ]
    },
    {
     "name": "stdout",
     "output_type": "stream",
     "text": [
      "list of characters: ['p', 'w', 's', 'k', 'i', 'l', 'l', 's']\n"
     ]
    }
   ],
   "source": [
    "#40.Convert a string to a list of characters.\n",
    "s=input(\"enter a string:\")\n",
    "lst=[]\n",
    "for i in s:\n",
    "    lst.append(i)\n",
    "print(\"list of characters:\",lst)"
   ]
  },
  {
   "cell_type": "code",
   "execution_count": 27,
   "id": "95a6153c-4e4c-4252-b837-d291b709faff",
   "metadata": {},
   "outputs": [
    {
     "name": "stdout",
     "output_type": "stream",
     "text": [
      "True False\n"
     ]
    }
   ],
   "source": [
    "#41.Check if two strings are anagrams.\n",
    "def are_anagrams(str1,str2):\n",
    "    str1=str1.lower()\n",
    "    str2=str2.lower()\n",
    "    return sorted(str1)==sorted(str2)\n",
    "result1=are_anagrams(\"spar\",\"rasp\")\n",
    "result2=are_anagrams(\"miss\",\"less\")\n",
    "print(result1,result2)"
   ]
  },
  {
   "cell_type": "code",
   "execution_count": 36,
   "id": "72f35ebc-ad79-4384-98f9-fa71f7c26e8a",
   "metadata": {},
   "outputs": [
    {
     "name": "stdout",
     "output_type": "stream",
     "text": [
      "Encoded text:  , !\n"
     ]
    }
   ],
   "source": [
    "#42.Encode a string using a Caesar cipher.\n",
    "def caesar_cipher(text, shift):  \n",
    "    encoded_text = \" \"  \n",
    "    for char in text:   \n",
    "       if char.isalpha():        \n",
    "            encoded_char = chr((ord(char) + shift - ord('a')) % 26 + ord('a'))\n",
    "       else:          \n",
    "            encoded_char = char\n",
    "            encoded_text += encoded_char \n",
    "    return encoded_text\n",
    "text = \"Hello, world!\"\n",
    "shift = 3\n",
    "encoded_text = caesar_cipher(text, shift)\n",
    "print(\"Encoded text:\", encoded_text)"
   ]
  }
 ],
 "metadata": {
  "kernelspec": {
   "display_name": "Python 3 (ipykernel)",
   "language": "python",
   "name": "python3"
  },
  "language_info": {
   "codemirror_mode": {
    "name": "ipython",
    "version": 3
   },
   "file_extension": ".py",
   "mimetype": "text/x-python",
   "name": "python",
   "nbconvert_exporter": "python",
   "pygments_lexer": "ipython3",
   "version": "3.10.8"
  }
 },
 "nbformat": 4,
 "nbformat_minor": 5
}
{
 "cells": [
  {
   "cell_type": "code",
   "execution_count": 14,
   "id": "f2147b8f-4b1d-4282-9e9f-a5f8205f3250",
   "metadata": {},
   "outputs": [
    {
     "name": "stdout",
     "output_type": "stream",
     "text": [
      "mtphfiip mvqelk\n"
     ]
    }
   ],
   "source": [
    "#43. Decode a Caesar cipher encoded string.\n",
    "def caesar_cipher_decoder(text,shift):\n",
    "    decoded_text=\"\"\n",
    "    for char in text:\n",
    "        if char.isalpha():\n",
    "            decoded_char = chr((ord(char) - shift - ord('a')) % 26 + ord('a'))\n",
    "        else:\n",
    "            decoded_char = char\n",
    "        decoded_text += decoded_char\n",
    "    \n",
    "    return decoded_text\n",
    "decoded_text=caesar_cipher_decoder(\"pwskills python\",3)\n",
    "print(decoded_text)\n"
   ]
  },
  {
   "cell_type": "code",
   "execution_count": 28,
   "id": "dddb0701-61af-440d-a537-d4f533f8e08e",
   "metadata": {},
   "outputs": [
    {
     "name": "stdout",
     "output_type": "stream",
     "text": [
      "This\n"
     ]
    }
   ],
   "source": [
    "#44. Find the most frequent word in a string.\n",
    "from collections import defaultdict\n",
    "\n",
    "def most_frequent_word(s):\n",
    "    freq = defaultdict(int)\n",
    "    words = s.split()\n",
    "    for word in words:\n",
    "        freq[word] += 1\n",
    "    max_count = max(freq.values())\n",
    "    for word, count in freq.items():\n",
    "        if count == max_count:\n",
    "            return word\n",
    "s = \"This is a sample string. This line contains some words \"\n",
    "print(most_frequent_word(s))"
   ]
  },
  {
   "cell_type": "code",
   "execution_count": 36,
   "id": "2b6d232b-34b1-4f8e-8e5b-05929a3bba3e",
   "metadata": {},
   "outputs": [
    {
     "name": "stdout",
     "output_type": "stream",
     "text": [
      "['this', 'is', 'a', 'sample', 'string', 'contains', 'some', 'words']\n"
     ]
    }
   ],
   "source": [
    "#45. Find all unique words in a string.\n",
    "string=\"This is a sample string this string contains some words \"\n",
    "s=string.lower().split()\n",
    "lst=[]\n",
    "for word in s:\n",
    "    if word not in lst:\n",
    "        lst.append(word)\n",
    "print(lst)\n"
   ]
  },
  {
   "cell_type": "code",
   "execution_count": null,
   "id": "8a4f1499-2d48-4d34-92ea-41b7ce912ab9",
   "metadata": {},
   "outputs": [],
   "source": [
    "\n"
   ]
  }
],
 "metadata": {
  "kernelspec": {
   "display_name": "Python 3 (ipykernel)",
   "language": "python",
   "name": "python3"
  },
  "language_info": {
   "codemirror_mode": {
    "name": "ipython",
    "version": 3
   },
   "file_extension": ".py",
   "mimetype": "text/x-python",
   "name": "python",
   "nbconvert_exporter": "python",
   "pygments_lexer": "ipython3",
   "version": "3.10.8"
  }
 },
 "nbformat": 4,
 "nbformat_minor": 5
}
{
 "cells": [
  {
   "cell_type": "code",
   "execution_count": 4,
   "id": "d5d9648f-0005-4cf8-9470-19cb60942a8c",
   "metadata": {},
   "outputs": [
    {
     "name": "stdout",
     "output_type": "stream",
     "text": [
      "number of syllables in a string [1, 2, 1, 1, 2, 1, 1, 1]\n"
     ]
    }
   ],
   "source": [
    "#46. Count the number of syllables in a string.\n",
    "def count_syllables(word):\n",
    "    word=word.lower()\n",
    "    vowels=\"aeiouy\"\n",
    "    count=0\n",
    "    if word[0] in vowels:\n",
    "        count+=1\n",
    "    for index in range(1,len(word)):\n",
    "        if word[index] in vowels and word[index-1] not in vowels:\n",
    "            count+=1\n",
    "    if word.endswith(\"e\"):\n",
    "            count-=1\n",
    "    if count==0:\n",
    "            count+=1\n",
    "    return count\n",
    "string=\"iam learning full stack data science in pwskills\"\n",
    "syllables=[count_syllables(word) for word in string.split()]\n",
    "print(\"number of syllables in a string\",syllables)\n",
    "            "
   ]
  },
  {
   "cell_type": "code",
   "execution_count": 11,
   "id": "6e274f61-afa8-4660-930e-0db7946494c8",
   "metadata": {},
   "outputs": [
    {
     "name": "stdout",
     "output_type": "stream",
     "text": [
      "The string does not contain any special characters.\n"
     ]
    }
   ],
   "source": [
    "#47. Check if a string contains any special characters.\n",
    "def contains_special_characters(string):\n",
    "    special_characters = \"!@#$%^&*()-_=+[]{}|;:,.<>?/~`\"\n",
    "    for char in string:\n",
    "        if char in special_characters:\n",
    "            return True\n",
    "    return False\n",
    "\n",
    "string = \"@pwskills\"\n",
    "if contains_special_characters(string):\n",
    "    print(\"The string contains special characters.\")\n",
    "else:\n",
    "    print(\"The string does not contain any special characters.\")\n"
   ]
  },
  {
   "cell_type": "code",
   "execution_count": 13,
   "id": "7950d922-e6d3-413d-ab50-b7527feba686",
   "metadata": {},
   "outputs": [
    {
     "name": "stdout",
     "output_type": "stream",
     "text": [
      "The new string is: iam learning full stack data science in\n"
     ]
    }
   ],
   "source": [
    "#48. Remove the nth word from a string.\n",
    "def remove_nth_word(string, n):\n",
    "    words = string.split()\n",
    "    if n <= len(words):\n",
    "        del words[n-1]\n",
    "        return \" \".join(words)\n",
    "    else:\n",
    "        return string\n",
    "\n",
    "string = \"iam learning full stack data science in pwskills\"\n",
    "n = 8\n",
    "new_string = remove_nth_word(string, n)\n",
    "print(\"The new string is:\", new_string)"
   ]
  },
  {
   "cell_type": "code",
   "execution_count": null,
   "id": "842ab512-f102-44eb-b3c4-1869b1467f63",
   "metadata": {},
   "outputs": [],
   "source": []
  }
 ],
 "metadata": {
  "kernelspec": {
   "display_name": "Python 3 (ipykernel)",
   "language": "python",
   "name": "python3"
  },
  "language_info": {
   "codemirror_mode": {
    "name": "ipython",
    "version": 3
   },
   "file_extension": ".py",
   "mimetype": "text/x-python",
   "name": "python",
   "nbconvert_exporter": "python",
   "pygments_lexer": "ipython3",
   "version": "3.10.8"
  }
 },
 "nbformat": 4,
 "nbformat_minor": 5
}
{
 "cells": [
  {
   "cell_type": "code",
   "execution_count": 7,
   "id": "08669948-61e6-418a-aecc-a37631229cbd",
   "metadata": {},
   "outputs": [
    {
     "name": "stdin",
     "output_type": "stream",
     "text": [
      "enter a string hello hyd\n",
      "enter a word good morning\n",
      "enter a number 6\n"
     ]
    },
    {
     "name": "stdout",
     "output_type": "stream",
     "text": [
      "hello good morninghyd\n"
     ]
    }
   ],
   "source": [
    "#49. Insert a word at the nth position in a string.\n",
    "def insert_word(string,word,position):\n",
    "    if position < 0 or position > len(string):\n",
    "        raise ValueError(\"Position must be within the string bounds.\")\n",
    "    return string[:position]  + word +  string[position:]\n",
    "string = input(\"enter a string\")\n",
    "word = input(\"enter a word\")\n",
    "position = int(input(\"enter a number\"))\n",
    "\n",
    "result = insert_word(string, word, position)\n",
    "print(result)\n"
   ]
  },
  {
   "cell_type": "code",
   "execution_count": 12,
   "id": "3b67ec4a-fec6-4490-b852-31a6033de8ac",
   "metadata": {},
   "outputs": [
    {
     "name": "stdout",
     "output_type": "stream",
     "text": [
      "[['a', 'b', 'c'], ['d', 'e', 'f'], ['g', 'h', 'i']]\n"
     ]
    }
   ],
   "source": [
    "#50. Convert a CSV string to a list of lists.\n",
    "import csv\n",
    "csv_string = \"\"\"a,b,c\n",
    "d,e,f\n",
    "g,h,i\"\"\"\n",
    "\n",
    "lines = csv_string.splitlines()\n",
    "\n",
    "reader = csv.reader(lines)\n",
    "\n",
    "parsed_csv = list(reader)\n",
    "\n",
    "print(parsed_csv)"
   ]
  },
  {
   "cell_type": "code",
   "execution_count": 16,
   "id": "f284a27f-c9d9-4953-9ddb-0803f2ac78a1",
   "metadata": {},
   "outputs": [
    {
     "name": "stdout",
     "output_type": "stream",
     "text": [
      "[1, 2, 3, 4, 5, 6, 7, 8, 9, 10]\n"
     ]
    }
   ],
   "source": [
    "#1. Create a list with integers from 1 to 10.\n",
    "list=[i for i in range(1,11)]\n",
    "print(list)\n",
    "    "
   ]
  },
  {
   "cell_type": "code",
   "execution_count": 17,
   "id": "c056df61-eea6-4b4a-8d12-b0a7513ca82b",
   "metadata": {},
   "outputs": [
    {
     "name": "stdout",
     "output_type": "stream",
     "text": [
      "10\n"
     ]
    }
   ],
   "source": [
    "#2. Find the length of a list without using the `len()` function.\n",
    "lst = [1, 2, 3, 4, 5, 6, 7, 8, 9, 10]\n",
    "length = 0\n",
    "for i in lst:\n",
    "    length += 1\n",
    "print(length)\n"
   ]
  },
  {
   "cell_type": "code",
   "execution_count": 22,
   "id": "36023991-baa8-4e8e-a0f2-c0fc0b0dc6ce",
   "metadata": {},
   "outputs": [
    {
     "name": "stdout",
     "output_type": "stream",
     "text": [
      "[1, 5, 7, 9, 3, 6, 4]\n"
     ]
    }
   ],
   "source": [
    "#3. Append an element to the end of a list.\n",
    "lst=[1,5,7,9,3,6]\n",
    "lst.append(4)\n",
    "print(lst)"
   ]
  },
  {
   "cell_type": "code",
   "execution_count": 26,
   "id": "8e726a4c-a3ef-49a8-ab96-1b1f980da033",
   "metadata": {},
   "outputs": [
    {
     "name": "stdout",
     "output_type": "stream",
     "text": [
      "[1, 2, 4, 7, 5, 8, 6]\n"
     ]
    }
   ],
   "source": [
    "#4. Insert an element at a specific index in a list.\n",
    "lst=[1,2,7,5,8,6]\n",
    "lst.insert(2,4)\n",
    "print(lst)"
   ]
  },
  {
   "cell_type": "code",
   "execution_count": 27,
   "id": "ceac7d48-b81b-48fa-89b2-aebafe984d13",
   "metadata": {},
   "outputs": [
    {
     "name": "stdout",
     "output_type": "stream",
     "text": [
      "[1, 7, 5, 8, 6]\n"
     ]
    }
   ],
   "source": [
    "#5. Remove an element from a list by its value.\n",
    "lst=[1,2,7,5,8,6]\n",
    "lst.remove(2)\n",
    "print(lst)"
   ]
  },
  {
   "cell_type": "code",
   "execution_count": 29,
   "id": "b06fafb4-cd50-4034-8577-5a5a76b64824",
   "metadata": {},
   "outputs": [
    {
     "name": "stdout",
     "output_type": "stream",
     "text": [
      "['python', 'java', 'data science']\n"
     ]
    }
   ],
   "source": [
    "#6. Remove an element from a list by its index.\n",
    "lst=['python','java','django','data science']\n",
    "lst1=lst[:2] + lst[3:]\n",
    "print(lst1)"
   ]
  },
  {
   "cell_type": "code",
   "execution_count": 32,
   "id": "646d2da3-6729-4980-af2c-3a203bb216cc",
   "metadata": {},
   "outputs": [
    {
     "data": {
      "text/plain": [
       "'element exist in list'"
      ]
     },
     "execution_count": 32,
     "metadata": {},
     "output_type": "execute_result"
    }
   ],
   "source": [
    "#7. Check if an element exists in a list.\n",
    "def check_lst(lst,element):\n",
    "    if element in lst:\n",
    "        return \"element exist in list\"\n",
    "    return \"element doesnt exist in list\"\n",
    "check_lst(['python','java','django','data science'],'java')"
   ]
  },
  {
   "cell_type": "code",
   "execution_count": 36,
   "id": "d752396c-4a10-47a4-809b-d075640583ee",
   "metadata": {},
   "outputs": [
    {
     "name": "stdout",
     "output_type": "stream",
     "text": [
      "java is at index 0\n"
     ]
    }
   ],
   "source": [
    "#8. Find the index of the first occurrence of an element in a list.\n",
    "lst = [\"java\", \"python\", \"java\", \"C++\",\"data science\"]\n",
    "element = \"java\"\n",
    "try:\n",
    "    index =lst.index(element)\n",
    "    print(f\"{element} is at index {index}\")\n",
    "except ValueError:\n",
    "    print(f\"{element} is not in the list\")"
   ]
  },
  {
   "cell_type": "code",
   "execution_count": 38,
   "id": "0da2a19a-91e9-472a-a7c2-111dcee1f2b0",
   "metadata": {},
   "outputs": [
    {
     "name": "stdout",
     "output_type": "stream",
     "text": [
      "1\n"
     ]
    }
   ],
   "source": [
    "#9. Count the occurrences of an element in a list.\n",
    "lst = [\"java\", \"python\", \"java\", \"C++\",\"data science\"]\n",
    "def count_element(lst, element):\n",
    "    count = 0\n",
    "    for s in lst:\n",
    "        if s == element:\n",
    "            count += 1\n",
    "    return count\n",
    "lst = [\"java\", \"python\", \"java\", \"C++\",\"data science\"]\n",
    "element = \"python\"\n",
    "count = count_element(lst, element)\n",
    "print(count)"
   ]
  }
 ],
 "metadata": {
  "kernelspec": {
   "display_name": "Python 3 (ipykernel)",
   "language": "python",
   "name": "python3"
  },
  "language_info": {
   "codemirror_mode": {
    "name": "ipython",
    "version": 3
   },
   "file_extension": ".py",
   "mimetype": "text/x-python",
   "name": "python",
   "nbconvert_exporter": "python",
   "pygments_lexer": "ipython3",
   "version": "3.10.8"
  }
 },
 "nbformat": 4,
 "nbformat_minor": 5
}
{
 "cells": [
  {
   "cell_type": "code",
   "execution_count": 1,
   "id": "eb1e8f6e-b09f-454b-a7d4-27087bd3a6ab",
   "metadata": {},
   "outputs": [
    {
     "name": "stdout",
     "output_type": "stream",
     "text": [
      "[5, 4, 3, 2, 1]\n"
     ]
    }
   ],
   "source": [
    "#10. Reverse the order of elements in a list.\n",
    "lst=[1,2,3,4,5]\n",
    "result=lst[::-1]\n",
    "print(result)"
   ]
  },
  {
   "cell_type": "code",
   "execution_count": 2,
   "id": "81bcfb91-f0cd-44bc-a63c-b7922724b819",
   "metadata": {},
   "outputs": [
    {
     "data": {
      "text/plain": [
       "[1, 2, 3, 5, 7, 9]"
      ]
     },
     "execution_count": 2,
     "metadata": {},
     "output_type": "execute_result"
    }
   ],
   "source": [
    "#11. Sort a list in ascending order.\n",
    "def ascending_order(lst):\n",
    "    lst.sort()\n",
    "    return lst\n",
    "ascending_order([1,2,3,7,9,5])"
   ]
  },
  {
   "cell_type": "code",
   "execution_count": 3,
   "id": "c9a52b23-01ff-489b-9c2a-08ecbd57dba7",
   "metadata": {},
   "outputs": [
    {
     "data": {
      "text/plain": [
       "[9, 7, 5, 3, 2, 1]"
      ]
     },
     "execution_count": 3,
     "metadata": {},
     "output_type": "execute_result"
    }
   ],
   "source": [
    "#12. Sort a list in descending order.\n",
    "def descending_order(lst):\n",
    "    lst.sort(reverse=True)\n",
    "    return lst\n",
    "ascending_order([1,2,3,7,9,5])"
   ]
  },
  {
   "cell_type": "code",
   "execution_count": 8,
   "id": "54cde7be-53c6-4bb7-bc08-c5297752b41b",
   "metadata": {},
   "outputs": [
    {
     "name": "stdout",
     "output_type": "stream",
     "text": [
      "[2, 4, 6, 8, 10, 12, 14, 16, 18, 20]\n"
     ]
    }
   ],
   "source": [
    "#13. Create a list of even numbers from 1 to 20.\n",
    "def even_numbers(lst):\n",
    "    lst=[]\n",
    "    for i in range(1,21):\n",
    "        if i%2==0:\n",
    "            lst.append(i)\n",
    "    return lst\n",
    "result=even_numbers(lst)\n",
    "print(result)"
   ]
  },
  {
   "cell_type": "code",
   "execution_count": 9,
   "id": "569da448-e99d-4f09-82b1-ed5b0aa6979f",
   "metadata": {},
   "outputs": [
    {
     "name": "stdout",
     "output_type": "stream",
     "text": [
      "[1, 3, 5, 7, 9, 11, 13, 15, 17, 19]\n"
     ]
    }
   ],
   "source": [
    "#14. Create a list of odd numbers from 1 to 20.\n",
    "s=[i for i in range(1,21) if i%2!=0]\n",
    "print(s)"
   ]
  },
  {
   "cell_type": "code",
   "execution_count": 12,
   "id": "13fb3a99-39be-4a71-ac7c-93d8c5a935d8",
   "metadata": {},
   "outputs": [
    {
     "name": "stdout",
     "output_type": "stream",
     "text": [
      "28\n"
     ]
    }
   ],
   "source": [
    "#15. Find the sum of all elements in a list.\n",
    "def list_sum(input_list):\n",
    "    total = 0\n",
    "    for num in input_list:\n",
    "        total += num\n",
    "    return total\n",
    "result=list_sum([1,2,3,4,5,6,7])\n",
    "print(result)"
   ]
  },
  {
   "cell_type": "code",
   "execution_count": 13,
   "id": "1f6332c7-1cf0-4281-a145-541498a00d43",
   "metadata": {},
   "outputs": [
    {
     "name": "stdout",
     "output_type": "stream",
     "text": [
      "9\n"
     ]
    }
   ],
   "source": [
    "#16. Find the maximum value in a list.\n",
    "def find_max(input_list):\n",
    "    max_value = input_list[0]\n",
    "    for num in input_list:\n",
    "        if num > max_value:\n",
    "            max_value = num\n",
    "    return max_value\n",
    "s=find_max([1,4,7,8,9,4])\n",
    "print(s)"
   ]
  },
  {
   "cell_type": "code",
   "execution_count": 14,
   "id": "35d5ebe4-695c-4b3a-9f0f-b567a1454b42",
   "metadata": {},
   "outputs": [
    {
     "name": "stdout",
     "output_type": "stream",
     "text": [
      "1\n"
     ]
    }
   ],
   "source": [
    "#17. Find the minimum value in a list.\n",
    "lst=[1,4,7,8,9,4]\n",
    "res=min(lst)\n",
    "print(res)"
   ]
  },
  {
   "cell_type": "code",
   "execution_count": 19,
   "id": "87ab88e1-3208-4277-add1-3afeb1828853",
   "metadata": {},
   "outputs": [
    {
     "name": "stdout",
     "output_type": "stream",
     "text": [
      "[1, 4, 9, 16, 25, 36, 49, 64, 81, 100]\n"
     ]
    }
   ],
   "source": [
    "#18. Create a list of squares of numbers from 1 to 10.\n",
    "def squares(lst):\n",
    "    lst1=[]\n",
    "    for i in range(1,11):\n",
    "        lst1.append(i**2)\n",
    "    return lst1\n",
    "result=squares(lst)\n",
    "print(result)"
   ]
  },
  {
   "cell_type": "code",
   "execution_count": 31,
   "id": "56011093-d018-4088-b6f7-23e0cb56f9ea",
   "metadata": {},
   "outputs": [
    {
     "name": "stdout",
     "output_type": "stream",
     "text": [
      "[0.9067674514192886, 0.9611270066783381, 0.5065167487803145, 0.2172395428054058, 0.5873233825756102]\n"
     ]
    }
   ],
   "source": [
    "#19. Create a list of random numbers.\n",
    "import random\n",
    "def random_list(elements):\n",
    "    random_list = []\n",
    "    for i in range(elements):\n",
    "        random_list.append(random.random())\n",
    "    return random_list\n",
    "x=random_list(5)\n",
    "print(x)"
   ]
  },
  {
   "cell_type": "code",
   "execution_count": 32,
   "id": "06f1c1de-7b82-4178-8483-6e0e7b6f514a",
   "metadata": {},
   "outputs": [
    {
     "name": "stdout",
     "output_type": "stream",
     "text": [
      "[1, 2, 5, 7, 3, 4]\n"
     ]
    }
   ],
   "source": [
    "#20. Remove duplicates from a list.\n",
    "def remove_duplicates(lst):\n",
    "    new_lst=[]\n",
    "    for i in lst:\n",
    "        if i not in new_lst:\n",
    "            new_lst.append(i)\n",
    "    return new_lst\n",
    "result=remove_duplicates([1,2,5,7,3,2,4,5])\n",
    "print(result)"
   ]
  },
  {
   "cell_type": "code",
   "execution_count": 33,
   "id": "d03af693-3b71-495c-948f-41d94adf0c38",
   "metadata": {},
   "outputs": [
    {
     "name": "stdout",
     "output_type": "stream",
     "text": [
      "[3, 6, 8]\n"
     ]
    }
   ],
   "source": [
    "#21. Find the common elements between two lists.\n",
    "def common_elements(lst1,lst2):\n",
    "    lst=[]\n",
    "    for i in lst1:\n",
    "        if i in lst2:\n",
    "            lst.append(i)\n",
    "    return lst\n",
    "res=common_elements([1,4,3,6,8],[5,3,6,8,2])\n",
    "print(res)"
   ]
  },
  {
   "cell_type": "code",
   "execution_count": 34,
   "id": "d24bce2e-99c3-4d28-8322-dc7a26b88bce",
   "metadata": {},
   "outputs": [
    {
     "name": "stdout",
     "output_type": "stream",
     "text": [
      "[10, 15, 20, 30]\n"
     ]
    }
   ],
   "source": [
    "#22. Find the difference between two lists.\n",
    "list1 = [10, 15, 20, 25, 30, 35, 40]\n",
    "list2 = [25, 40, 35]\n",
    "difference = [x for x in list1 if x not in list2]\n",
    "print(difference)\n"
   ]
  },
  {
   "cell_type": "code",
   "execution_count": 36,
   "id": "cbaeb1d4-8b81-44e4-a8b2-c680f39c7cce",
   "metadata": {},
   "outputs": [
    {
     "name": "stdout",
     "output_type": "stream",
     "text": [
      "[1, 4, 6, 9, 5, 3, 7, 0, 2]\n"
     ]
    }
   ],
   "source": [
    "#23. Merge two lists.\n",
    "lst1=[1,4,6,9,5,3,7]\n",
    "lst2=[0,2]\n",
    "merged_lst=lst1 + lst2\n",
    "print(merged_lst)"
   ]
  },
  {
   "cell_type": "code",
   "execution_count": 37,
   "id": "b7d78cfb-457a-4f74-ab48-3752bb7ef08d",
   "metadata": {},
   "outputs": [
    {
     "name": "stdout",
     "output_type": "stream",
     "text": [
      "[2, 90, 14, 6, 196, 64, 16, 112]\n"
     ]
    }
   ],
   "source": [
    "#24. Multiply all elements in a list by 2.\n",
    "lst=[1,45,7,3,98,32,8,56]\n",
    "lst1=[]\n",
    "for i in lst:\n",
    "    lst1.append(i*2)\n",
    "print(lst1)\n",
    "    "
   ]
  },
  {
   "cell_type": "code",
   "execution_count": 38,
   "id": "a6fe9203-2504-4b10-b174-785fdd6fc10d",
   "metadata": {},
   "outputs": [
    {
     "name": "stdout",
     "output_type": "stream",
     "text": [
      "[4, 6, 2, 8, 10]\n"
     ]
    }
   ],
   "source": [
    "#25. Filter out all even numbers from a list.\n",
    "numbers = [1, 4, 5, 6, 5, 3, 7, 2, 5, 8, 9, 10]\n",
    "even_numbers = [num for num in numbers if num % 2 == 0]\n",
    "print(even_numbers)"
   ]
  },
  {
   "cell_type": "code",
   "execution_count": 43,
   "id": "32173b4d-1101-4def-a9b6-116db366f617",
   "metadata": {},
   "outputs": [
    {
     "name": "stdout",
     "output_type": "stream",
     "text": [
      "[1, 2, 3, 4, 5, 6]\n"
     ]
    }
   ],
   "source": [
    "#26. Convert a list of strings to a list of integers.\n",
    "lst=['1','2','3','4','5','6']\n",
    "lst1=[int(i) for i in lst]\n",
    "print(lst1)\n",
    " "
   ]
  },
  {
   "cell_type": "code",
   "execution_count": 44,
   "id": "0f5f285f-5ebe-45ec-a1de-61a79839d1fc",
   "metadata": {},
   "outputs": [
    {
     "name": "stdout",
     "output_type": "stream",
     "text": [
      "['1', '2', '3', '4', '5', '6']\n"
     ]
    }
   ],
   "source": [
    "#27. Convert a list of integers to a list of strings.\n",
    "lst=[1,2,3,4,5,6]\n",
    "lst1=[str(i) for i in lst]\n",
    "print(lst1)\n",
    " "
   ]
  },
  {
   "cell_type": "code",
   "execution_count": 47,
   "id": "acc4c7a0-a244-4ae6-9e50-a0c631c7549f",
   "metadata": {},
   "outputs": [
    {
     "name": "stdout",
     "output_type": "stream",
     "text": [
      "[1, 2, 3, 4, 5, 6]\n"
     ]
    }
   ],
   "source": [
    "#28. Flatten a nested list.\n",
    "def flatten_list(nested_list):\n",
    "    flat_list = []\n",
    "    for i in nested_list:\n",
    "        if isinstance(i, list):\n",
    "            flat_list.extend(flatten_list(i))\n",
    "        else:\n",
    "            flat_list.append(i)\n",
    "    return flat_list\n",
    "\n",
    "nested_list = [1, [2, [3, 4], 5], 6]\n",
    "flat_list = flatten_list(nested_list)\n",
    "print(flat_list)"
   ]
  },
  {
   "cell_type": "code",
   "execution_count": 48,
   "id": "949fe1cd-fc4e-4004-adee-e5038844637e",
   "metadata": {},
   "outputs": [
    {
     "name": "stdout",
     "output_type": "stream",
     "text": [
      "[0, 1, 1, 2, 3, 5, 8, 13, 21, 34]\n"
     ]
    }
   ],
   "source": [
    "#29. Create a list of the first 10 Fibonacci numbers.\n",
    "def fibonacci(n):\n",
    "    fib_list = [0, 1]\n",
    "    while len(fib_list) < n:\n",
    "        fib_list.append(fib_list[-1] + fib_list[-2])\n",
    "    return fib_list\n",
    "\n",
    "fib_list = fibonacci(10)\n",
    "print(fib_list)\n"
   ]
  },
  {
   "cell_type": "code",
   "execution_count": 49,
   "id": "f4ee8d55-4171-4805-b99e-494a77cbcbf4",
   "metadata": {},
   "outputs": [
    {
     "name": "stdout",
     "output_type": "stream",
     "text": [
      "True\n"
     ]
    }
   ],
   "source": [
    "#30. Check if a list is sorted.\n",
    "def is_sorted(lst):\n",
    "    return lst == sorted(lst)\n",
    "lst = [1, 2, 3, 4, 5]\n",
    "print(is_sorted(lst))\n"
   ]
  },
  {
   "cell_type": "code",
   "execution_count": null,
   "id": "14a3e058-03b0-47d7-9c2f-31a594b0fe10",
   "metadata": {},
   "outputs": [],
   "source": []
  }
 ],
 "metadata": {
  "kernelspec": {
   "display_name": "Python 3 (ipykernel)",
   "language": "python",
   "name": "python3"
  },
  "language_info": {
   "codemirror_mode": {
    "name": "ipython",
    "version": 3
   },
   "file_extension": ".py",
   "mimetype": "text/x-python",
   "name": "python",
   "nbconvert_exporter": "python",
   "pygments_lexer": "ipython3",
   "version": "3.10.8"
  }
 },
 "nbformat": 4,
 "nbformat_minor": 5
}
{
 "cells": [
  {
   "cell_type": "code",
   "execution_count": 1,
   "id": "2bfd53f9-584f-4edd-a002-0c9ca97d01c2",
   "metadata": {},
   "outputs": [
    {
     "name": "stdout",
     "output_type": "stream",
     "text": [
      "Original list : [1, 4, 6, 7, 2]\n",
      "List after left rotate by 3 : [7, 2, 1, 4, 6]\n"
     ]
    }
   ],
   "source": [
    "#31. Rotate a list to the left by `n` positions.\n",
    "def rotate_list(lst, n):\n",
    "    n = n % len(lst)\n",
    "    return lst[n:] + lst[:n]\n",
    "\n",
    "test_list = [1, 4, 6, 7, 2]\n",
    "print(\"Original list : \" + str(test_list))\n",
    "test_list = rotate_list(test_list, 3)\n",
    "print(\"List after left rotate by 3 : \" + str(test_list))\n"
   ]
  },
  {
   "cell_type": "code",
   "execution_count": 2,
   "id": "0ec9247c-4b97-402d-a0a9-f76fd4ee2ed1",
   "metadata": {},
   "outputs": [
    {
     "name": "stdout",
     "output_type": "stream",
     "text": [
      "Original list : [1, 4, 6, 7, 2]\n",
      "List after right rotate by 3 : [6, 7, 2, 1, 4]\n"
     ]
    }
   ],
   "source": [
    "#32. Rotate a list to the right by `n` positions.\n",
    "def rotate_list_right(lst, n):\n",
    "    return lst[-n:] + lst[:-n]\n",
    "\n",
    "test_list = [1, 4, 6, 7, 2]\n",
    "print(\"Original list : \" + str(test_list))\n",
    "test_list = rotate_list_right(test_list, 3)\n",
    "print(\"List after right rotate by 3 : \" + str(test_list))\n"
   ]
  },
  {
   "cell_type": "code",
   "execution_count": 13,
   "id": "6c57845c-6093-4595-97c0-e98797acb84e",
   "metadata": {},
   "outputs": [
    {
     "name": "stdout",
     "output_type": "stream",
     "text": [
      "2 3 5 7 11 13 17 19 23 29 31 37 41 43 47 "
     ]
    }
   ],
   "source": [
    "#33. Create a list of prime numbers up to 50.\n",
    "lower = 1\n",
    "upper = 50\n",
    "for num in range(lower, upper + 1):\n",
    "    if num > 1:\n",
    "        for i in range(2, num):\n",
    "            if (num % i) == 0:\n",
    "                break\n",
    "        else:\n",
    "            print(num,end=' ')\n"
   ]
  },
  {
   "cell_type": "code",
   "execution_count": 16,
   "id": "39da4a7e-4c2e-427b-acd2-81546bf2251e",
   "metadata": {},
   "outputs": [
    {
     "name": "stdout",
     "output_type": "stream",
     "text": [
      "[[1, 2], [3, 4], [5, 6], [7, 8], [9, 10]]\n"
     ]
    }
   ],
   "source": [
    "#34. Split a list into chunks of size `n`.\n",
    "def chunk_list(lst, n):\n",
    "    return [lst[i:i + n] for i in range(0, len(lst), n)]\n",
    "my_list = [1, 2, 3, 4, 5, 6, 7, 8, 9,10]\n",
    "chunk_size = 2\n",
    "chunked_list = chunk_list(my_list, chunk_size)\n",
    "print(chunked_list)\n"
   ]
  },
  {
   "cell_type": "code",
   "execution_count": 17,
   "id": "5c2464fc-ca66-4591-b92a-ef438751b044",
   "metadata": {},
   "outputs": [
    {
     "name": "stdout",
     "output_type": "stream",
     "text": [
      "8\n"
     ]
    }
   ],
   "source": [
    "#35. Find the second largest number in a list.\n",
    "def second_largest(numbers):\n",
    "    if len(numbers) < 2:\n",
    "        raise ValueError(\"List must have at least two elements\")\n",
    "    largest = max(numbers)\n",
    "    second_largest = max(n for n in numbers if n < largest)\n",
    "    return second_largest\n",
    "numbers = [1, 5, 8, 3, 9, 2]\n",
    "second_largest_num = second_largest(numbers)\n",
    "print(second_largest_num)\n"
   ]
  },
  {
   "cell_type": "code",
   "execution_count": 18,
   "id": "ecfe1822-4758-45d7-8680-984930775b15",
   "metadata": {},
   "outputs": [
    {
     "name": "stdout",
     "output_type": "stream",
     "text": [
      "[1, 4, 9, 16, 25]\n"
     ]
    }
   ],
   "source": [
    "#36. Replace every element in a list with its square.\n",
    "def square_elements(numbers):\n",
    "    return [n ** 2 for n in numbers]\n",
    "numbers = [1, 2, 3, 4, 5]\n",
    "squared_numbers = square_elements(numbers)\n",
    "print(squared_numbers)"
   ]
  },
  {
   "cell_type": "code",
   "execution_count": 20,
   "id": "01a9bff5-e5f3-4e1b-9500-401ad9716d43",
   "metadata": {},
   "outputs": [
    {
     "name": "stdout",
     "output_type": "stream",
     "text": [
      "{'a': 0, 'b': 1, 'c': 2, 'd': 3}\n"
     ]
    }
   ],
   "source": [
    "'''37. Convert a list to a dictionary where list elements become keys and their\n",
    "indices become values.'''\n",
    "def list_to_dict(lst):\n",
    "    return {elem: i for i, elem in enumerate(lst)}\n",
    "lst = ['a', 'b', 'c', 'd']\n",
    "dct = list_to_dict(lst)\n",
    "print(dct)\n"
   ]
  },
  {
   "cell_type": "code",
   "execution_count": 25,
   "id": "1b5c8464-1aa0-4079-b746-dde2cb8b1a18",
   "metadata": {},
   "outputs": [
    {
     "name": "stdout",
     "output_type": "stream",
     "text": [
      "[2, 4, 3, 5, 1]\n"
     ]
    }
   ],
   "source": [
    "#38. Shuffle the elements of a list randomly.\n",
    "import random\n",
    "def shuffle_list(lst):\n",
    "    random.shuffle(lst)\n",
    "    return lst\n",
    "lst = [1, 2, 3, 4, 5]\n",
    "shuffled_lst = shuffle_list(lst)\n",
    "print(shuffled_lst)\n"
   ]
  },
  {
   "cell_type": "code",
   "execution_count": 26,
   "id": "a76d6cac-0f26-45c9-b0c6-55f12e7d084e",
   "metadata": {},
   "outputs": [
    {
     "name": "stdout",
     "output_type": "stream",
     "text": [
      "[1, 2, 6, 24, 120, 720, 5040, 40320, 362880, 3628800]\n"
     ]
    }
  ],
   "source": [
    "#39. Create a list of the first 10 factorial numbers.\n",
    "def factorial(n):\n",
    "    if n == 0:\n",
    "        return 1\n",
    "    else:\n",
    "        return n * factorial(n-1)\n",
    "\n",
    "def first_10_factorials():\n",
    "    return [factorial(i) for i in range(1, 11)]\n",
    "factorials = first_10_factorials()\n",
    "print(factorials)\n"
   ]
  }
 ],
 "metadata": {
  "kernelspec": {
   "display_name": "Python 3 (ipykernel)",
   "language": "python",
   "name": "python3"
  },
  "language_info": {
   "codemirror_mode": {
    "name": "ipython",
    "version": 3
   },
   "file_extension": ".py",
   "mimetype": "text/x-python",
   "name": "python",
   "nbconvert_exporter": "python",
   "pygments_lexer": "ipython3",
   "version": "3.10.8"
  }
{
 "cells": [
  {
   "cell_type": "code",
   "execution_count": 1,
   "id": "1cf23f6f-db55-45bf-aa04-d3ed3232c817",
   "metadata": {},
   "outputs": [
    {
     "name": "stdout",
     "output_type": "stream",
     "text": [
      "True\n"
     ]
    }
   ],
   "source": [
    "#40. Check if two lists have at least one element in common.\n",
    "def common_element(lst1,lst2):\n",
    "    for i in lst1:\n",
    "        for j in lst2:\n",
    "            if i==j:\n",
    "                result=True\n",
    "                return result\n",
    "    return False\n",
    "lst1=[1,2,5,7,8]\n",
    "lst2=[3,6,1,0,6]\n",
    "print(common_element(lst1,lst2))"
   ]
  },
  {
   "cell_type": "code",
   "execution_count": 2,
   "id": "56d7a999-5a88-41c0-9cb6-da18e204e399",
   "metadata": {},
   "outputs": [
    {
     "name": "stdout",
     "output_type": "stream",
     "text": [
      "[]\n"
     ]
    }
   ],
   "source": [
    "#41. Remove all elements from a list.\n",
    "lst=[1,3,6,8,4,2]\n",
    "lst.clear()\n",
    "print(lst)"
   ]
  },
  {
   "cell_type": "code",
   "execution_count": 6,
   "id": "3d7382f0-fc5d-4c26-9364-93f3646aeb48",
   "metadata": {},
   "outputs": [
    {
     "name": "stdout",
     "output_type": "stream",
     "text": [
      "[1, 4, 0, 0, 5]\n"
     ]
    }
   ],
   "source": [
    "#42. Replace negative numbers in a list with 0.\n",
    "def replace_negative_numbers(lst):\n",
    "    for i in range(len(lst)):\n",
    "        if lst[i]<0:\n",
    "            lst[i]=0\n",
    "        \n",
    "    return lst\n",
    "lst=[1,4,-3,-7,5]\n",
    "result=replace_negative_numbers(lst)\n",
    "print(result)"
   ]
  },
  {
   "cell_type": "code",
   "execution_count": 7,
   "id": "eb81acbd-5df9-474d-a4eb-0990fc9146d6",
   "metadata": {},
   "outputs": [
    {
     "name": "stdout",
     "output_type": "stream",
     "text": [
      "['i', 'love', 'biryani']\n"
     ]
    }
   ],
   "source": [
    "#43. Convert a string into a list of words.\n",
    "string=\"i love biryani\"\n",
    "s=string.split()\n",
    "print(s)"
   ]
  },
  {
   "cell_type": "code",
   "execution_count": 9,
   "id": "be528885-c5ca-4009-a157-7f46de64314e",
   "metadata": {},
   "outputs": [
    {
     "name": "stdout",
     "output_type": "stream",
     "text": [
      "hello good morning\n"
     ]
    }
   ],
   "source": [
    "#44. Convert a list of words into a string.\n",
    "def string_to_words(lst):\n",
    "    return ' '.join(lst)\n",
    "lst=[\"hello\",\"good\",\"morning\"]\n",
    "result=string_to_words(lst)\n",
    "print(result)"
   ]
  },
  {
   "cell_type": "code",
   "execution_count": 10,
   "id": "6addb823-13c1-4ed4-89c8-ccc58583f10e",
   "metadata": {},
   "outputs": [
    {
     "name": "stdin",
     "output_type": "stream",
     "text": [
      "enter a number 6\n"
     ]
    },
    {
     "name": "stdout",
     "output_type": "stream",
     "text": [
      "[1, 2, 4, 8, 16, 32]\n"
     ]
    }
   ],
   "source": [
    "#45. Create a list of the first `n` powers of 2.\n",
    "def powers_of_two(n):\n",
    "    return [2 ** i for i in range(n)]\n",
    "n=int(input(\"enter a number\"))\n",
    "result=powers_of_two(n)\n",
    "print(result)"
   ]
  },
  {
   "cell_type": "code",
   "execution_count": 12,
   "id": "1963ca15-4117-4e98-8354-0e408fae1095",
   "metadata": {},
   "outputs": [
    {
     "name": "stdout",
     "output_type": "stream",
     "text": [
      "morning\n"
     ]
    }
   ],
   "source": [
    "#46. Find the longest string in a list of strings.\n",
    "def longest_string(lst):\n",
    "    longest = lst[0]\n",
    "    for s in lst:\n",
    "        if len(s) > len(longest):\n",
    "            longest = s\n",
    "    return longest\n",
    "lst=[\"hello\",\"good\",\"morning\"]\n",
    "result=longest_string(lst)\n",
    "print(result)"
   ]
  },
  {
   "cell_type": "code",
   "execution_count": 15,
   "id": "350b8b62-94a8-4100-b0f8-e7b53ddeed5d",
   "metadata": {},
   "outputs": [
    {
     "name": "stdout",
     "output_type": "stream",
     "text": [
      "I\n"
     ]
    }
   ],
   "source": [
    "#47. Find the shortest string in a list of strings.\n",
    "def shortest_string(lst):\n",
    "    shortest = lst[0]\n",
    "    for s in lst:\n",
    "        if len(s) < len(shortest):\n",
    "            shortest= s\n",
    "    return shortest\n",
    "lst=[\"hello\",\"good\",\"morning\",\"in\",\"I\"]\n",
    "result=shortest_string(lst)\n",
    "print(result)"
   ]
  },
  {
   "cell_type": "code",
   "execution_count": 16,
   "id": "36c20273-6077-4a91-8c2a-7918fab65e28",
   "metadata": {},
   "outputs": [
    {
     "name": "stdin",
     "output_type": "stream",
     "text": [
      "enter a number 6\n"
     ]
    },
    {
     "name": "stdout",
     "output_type": "stream",
     "text": [
      "[1, 3, 6, 10, 15, 21]\n"
     ]
    }
   ],
   "source": [
    "#48. Create a list of the first `n` triangular numbers.\n",
    "def triangular_numbers(n):\n",
    "    return [(i * (i + 1)) // 2 for i in range(1, n + 1)]\n",
    "result=triangular_numbers(n)\n",
    "n=int(input(\"enter a number\"))\n",
    "print(result)"
   ]
  },
  {
   "cell_type": "code",
   "execution_count": 17,
   "id": "b9edf077-9bb8-4e63-bb23-39e79b2c2f1b",
   "metadata": {},
   "outputs": [
    {
     "name": "stdout",
     "output_type": "stream",
     "text": [
      "True\n",
      "False\n"
     ]
    }
   ],
   "source": [
    "#49. Check if a list contains another list as a subsequence.\n",
    "def contains_subsequence(main_list, sub_list):\n",
    "    if not sub_list:\n",
    "        return True\n",
    "    if not main_list:\n",
    "        return False\n",
    "    if main_list[0] == sub_list[0]:\n",
    "        return contains_subsequence(main_list[1:], sub_list[1:])\n",
    "    return contains_subsequence(main_list[1:], sub_list)\n",
    "main_list = [1, 2, 3, 4, 5]\n",
    "sub_list = [3, 4]\n",
    "print(contains_subsequence(main_list, sub_list))  \n",
    "\n",
    "sub_list = [6, 7]\n",
    "print(contains_subsequence(main_list, sub_list))  "
   ]
  },
  {
   "cell_type": "code",
   "execution_count": 18,
   "id": "4fc9c23d-95a1-4d56-92e1-15c01f3579a4",
   "metadata": {},
   "outputs": [
    {
     "name": "stdout",
     "output_type": "stream",
     "text": [
      "[3, 2, 1, 4, 5]\n"
     ]
    }
   ],
   "source": [
    "#50. Swap two elements in a list by their indices.\n",
    "def swap_elements(my_list, i, j):\n",
    "    my_list[i], my_list[j] = my_list[j], my_list[i]\n",
    "my_list = [1, 2, 3, 4, 5]\n",
    "swap_elements(my_list, 0, 2)\n",
    "print(my_list)  \n"
   ]
  }
 ],
 "metadata": {
  "kernelspec": {
   "display_name": "Python 3 (ipykernel)",
   "language": "python",
   "name": "python3"
  },
  "language_info": {
   "codemirror_mode": {
    "name": "ipython",
    "version": 3
   },
   "file_extension": ".py",
   "mimetype": "text/x-python",
   "name": "python",
   "nbconvert_exporter": "python",
   "pygments_lexer": "ipython3",
   "version": "3.10.8"
  }
 },
 "nbformat": 4,
 "nbformat_minor": 5
}
{
 "cells": [
  {
   "cell_type": "code",
   "execution_count": 1,
   "id": "4ca1af65-7777-4e7f-ad76-c52c344564ea",
   "metadata": {},
   "outputs": [
    {
     "name": "stdout",
     "output_type": "stream",
     "text": [
      "(1, 2, 3, 4, 5)\n"
     ]
    }
   ],
   "source": [
    "#1. Create a tuple with integers from 1 to 5.\n",
    "num=(1,2,3,4,5)\n",
    "print(num)"
   ]
  },
  {
   "cell_type": "code",
   "execution_count": 2,
   "id": "f8c9aeee-9d04-4e23-b57c-f4ab996e2573",
   "metadata": {},
   "outputs": [
    {
     "name": "stdout",
     "output_type": "stream",
     "text": [
      "3\n"
     ]
    }
   ],
   "source": [
    "#2. Access the third element of a tuple.\n",
    "num=(1,2,3,4,5)\n",
    "res=num[2]\n",
    "print(res)"
   ]
  },
  {
   "cell_type": "code",
   "execution_count": 5,
   "id": "1df5201c-289e-4c2d-bee3-9ad1cfb8c7f8",
   "metadata": {},
   "outputs": [
    {
     "name": "stdout",
     "output_type": "stream",
     "text": [
      "6\n"
     ]
    }
   ],
   "source": [
    "#3. Find the length of a tuple without using the `len()` function.\n",
    "def length_tuple(tup):\n",
    "    count=0\n",
    "    for i in tup:\n",
    "        count+=1\n",
    "    return count\n",
    "tup=(5,2,7,8,1,0)\n",
    "res=length_tuple(tup)\n",
    "print(res)\n",
    "        "
   ]
  },
  {
   "cell_type": "code",
   "execution_count": 9,
   "id": "d06cef6b-1e70-4f3e-b3a3-cbde8064bca9",
   "metadata": {},
   "outputs": [
    {
     "name": "stdout",
     "output_type": "stream",
     "text": [
      "2\n"
     ]
    }
   ],
   "source": [
    "#4. Count the occurrences of an element in a tuple.\n",
    "tup=(1,2,6,7,6,3,9)\n",
    "res=tup.count(6)\n",
    "print(res)\n",
    "    \n"
   ]
  },
  {
   "cell_type": "code",
   "execution_count": 15,
   "id": "3d349185-5e72-4ae4-b46b-53f2afb07f9b",
   "metadata": {},
   "outputs": [
    {
     "name": "stdin",
     "output_type": "stream",
     "text": [
      "enter an element 6\n"
     ]
    },
    {
     "name": "stdout",
     "output_type": "stream",
     "text": [
      "2\n"
     ]
    }
   ],
   "source": [
    "#5. Find the index of the first occurrence of an element in a tuple.\n",
    "tup=(1,2,6,7,6,3,9)\n",
    "element = int(input(\"enter an element\"))\n",
    "if element not in tup:\n",
    "    print(\"element not in tup\")\n",
    "else:\n",
    "    index = tup.index(element)\n",
    "    print(index)\n",
    "\n"
   ]
  },
  {
   "cell_type": "code",
   "execution_count": 20,
   "id": "68fd51ff-1d46-4a6d-818a-39147751354f",
   "metadata": {},
   "outputs": [
    {
     "name": "stdin",
     "output_type": "stream",
     "text": [
      "enter an element 6\n"
     ]
    },
    {
     "name": "stdout",
     "output_type": "stream",
     "text": [
      "exists\n"
     ]
    }
   ],
   "source": [
    "#6. Check if an element exists in a tuple.\n",
    "tup=(1,2,6,7,6,3,9)\n",
    "element=int(input(\"enter an element\"))\n",
    "if element in tup:\n",
    "        print(\"exists\")\n",
    "else:\n",
    "        print(\"doesn't exist\")\n",
    "        "
   ]
  },
  {
   "cell_type": "code",
   "execution_count": 21,
   "id": "6f9fd5b3-412c-421b-9238-467ac05f68f0",
   "metadata": {},
   "outputs": [
    {
     "name": "stdout",
     "output_type": "stream",
     "text": [
      "[1, 2, 6, 7, 6, 3, 9]\n"
     ]
    }
   ],
   "source": [
    "#7. Convert a tuple to a list.\n",
    "tup=(1,2,6,7,6,3,9)\n",
    "x=list(tup)\n",
    "print(x)"
   ]
  },
  {
   "cell_type": "code",
   "execution_count": 22,
   "id": "20e81890-33b7-481c-b3bb-52fc86d69d26",
   "metadata": {},
   "outputs": [
    {
     "name": "stdout",
     "output_type": "stream",
     "text": [
      "(1, 3, 6, 8, 3, 4)\n"
     ]
    }
   ],
   "source": [
    "#8. Convert a list to a tuple.\n",
    "lst=[1,3,6,8,3,4]\n",
    "x=tuple(lst)\n",
    "print(x)"
   ]
  },
  {
   "cell_type": "code",
   "execution_count": 23,
   "id": "0232cbbb-bf1f-4f26-a9fa-252a498f4cbd",
   "metadata": {},
   "outputs": [
    {
     "name": "stdout",
     "output_type": "stream",
     "text": [
      "a: 1\n",
      "b: 2\n",
      "c: 6\n",
      "d: 7\n",
      "e: 6\n",
      "f: 3\n",
      "g: 9\n"
     ]
    }
   ],
   "source": [
    "#9. Unpack the elements of a tuple into variables.\n",
    "tup = (1, 2, 6, 7, 6, 3, 9)\n",
    "a, b, c, d, e, f, g = tup\n",
    "print(f\"a: {a}\")\n",
    "print(f\"b: {b}\")\n",
    "print(f\"c: {c}\")\n",
    "print(f\"d: {d}\")\n",
    "print(f\"e: {e}\")\n",
    "print(f\"f: {f}\")\n",
    "print(f\"g: {g}\")"
   ]
  },
  {
   "cell_type": "code",
   "execution_count": 28,
   "id": "162bd3f5-06ac-4a16-ac93-af7bd1461854",
   "metadata": {},
   "outputs": [
    {
     "name": "stdout",
     "output_type": "stream",
     "text": [
      "(2, 4, 6, 8, 10)\n"
     ]
    }
   ],
   "source": [
    "#10. Create a tuple of even numbers from 1 to 10.\n",
    "even_numbers = [x for x in range(1, 11) if x % 2 == 0]\n",
    "tup= tuple(even_numbers)\n",
    "print(tup)"
   ]
  },
  {
   "cell_type": "code",
   "execution_count": 29,
   "id": "c7f46138-1a4b-48e2-99ff-b1e33660ad37",
   "metadata": {},
   "outputs": [
    {
     "name": "stdout",
     "output_type": "stream",
     "text": [
      "(1, 3, 5, 7, 9)\n"
     ]
    }
   ],
   "source": [
    "#11. Create a tuple of odd numbers from 1 to 10.\n",
    "odd_numbers = [x for x in range(1, 11) if x % 2 != 0]\n",
    "tup= tuple(odd_numbers)\n",
    "print(tup)"
   ]
  },
  {
   "cell_type": "code",
   "execution_count": 30,
   "id": "b4fea53b-b496-4cf7-a02a-fc93d73540e0",
   "metadata": {},
   "outputs": [
    {
     "name": "stdout",
     "output_type": "stream",
     "text": [
      "(1, 3, 7, 8, 4, 9, 2, 6, 7, 1, 9, 2)\n"
     ]
    }
   ],
   "source": [
    "#12. Concatenate two tuples.\n",
    "x=(1,3,7,8,4,9)\n",
    "y=(2,6,7,1,9,2)\n",
    "print(x + y)"
   ]
  },
  {
   "cell_type": "code",
   "execution_count": 31,
   "id": "ed903c2a-4471-464a-92fe-c35524eb90c8",
   "metadata": {},
   "outputs": [
    {
     "name": "stdout",
     "output_type": "stream",
     "text": [
      "The original tuple: (1, 2, 3)\n",
      "The repeated tuple: (1, 2, 3, 1, 2, 3, 1, 2, 3)\n"
     ]
    }
   ],
   "source": [
    "#13. Repeat a tuple three times.\n",
    "tup = (1, 2, 3)\n",
    "result_tuple = tup * 3\n",
    "print(f\"The original tuple: {tup}\")\n",
    "print(f\"The repeated tuple: {result_tuple}\")"
   ]
  },
  {
   "cell_type": "code",
   "execution_count": 32,
   "id": "27f287cb-43c4-4b28-a0e2-eb1ce097888d",
   "metadata": {},
   "outputs": [
    {
     "name": "stdout",
     "output_type": "stream",
     "text": [
      "tuple is not empty\n"
     ]
    }
   ],
   "source": [
    "#14. Check if a tuple is empty.\n",
    "tup=(1,4,6)\n",
    "if len(tup)==0:\n",
    "    print(\"tuple is empty\")\n",
    "else:\n",
    "    print(\"tuple is not empty\")"
   ]
  },
  {
   "cell_type": "code",
   "execution_count": 33,
   "id": "4db43373-4fb2-4687-9d97-26ba6965c4cc",
   "metadata": {},
   "outputs": [
    {
     "name": "stdout",
     "output_type": "stream",
     "text": [
      "The nested tuple: ((1, 2, 3), (4, 5, 6), (7, 8, 9))\n"
     ]
    }
   ],
   "source": [
    "#15. Create a nested tuple.\n",
    "nested_tuple = ((1, 2, 3), (4, 5, 6), (7, 8, 9))\n",
    "print(f\"The nested tuple: {nested_tuple}\")"
   ]
  },
  {
   "cell_type": "code",
   "execution_count": 34,
   "id": "406069b9-9d98-4c42-b0b0-f033e637be63",
   "metadata": {},
   "outputs": [
    {
     "name": "stdout",
     "output_type": "stream",
     "text": [
      "1\n"
     ]
    }
   ],
   "source": [
    "#16. Access the first element of a nested tuple.\n",
    "nested_tuple = ((1, 2, 3), (4, 5, 6), (7, 8, 9))\n",
    "res=nested_tuple[0][0]\n",
    "print(res)"
   ]
  },
  {
   "cell_type": "code",
   "execution_count": 36,
   "id": "5aa2a442-9265-449a-a902-9057ba27e954",
   "metadata": {},
   "outputs": [
    {
     "name": "stdout",
     "output_type": "stream",
     "text": [
      "1\n"
     ]
    }
   ],
   "source": [
    "#17. Create a tuple with a single element.\n",
    "tup=(1,)\n",
    "print(tup[0])"
   ]
  },
  {
   "cell_type": "code",
   "execution_count": 37,
   "id": "bfc5f266-f2c5-4326-8c8a-80a2399730af",
   "metadata": {},
   "outputs": [
    {
     "name": "stdout",
     "output_type": "stream",
     "text": [
      "Are the tuples equal? False\n",
      "Are the tuples not equal? True\n",
      "Is tuple1 less than tuple2? True\n",
      "Is tuple1 less than or equal to tuple2? True\n",
      "Is tuple1 greater than tuple2? False\n",
      "Is tuple1 greater than or equal to tuple2? False\n"
     ]
    }
   ],
   "source": [
    "#18. Compare two tuples.\n",
    "tuple1 = (1, 2, 3)\n",
    "tuple2 = (1, 2, 4)\n",
    "equal = tuple1 == tuple2\n",
    "print(f\"Are the tuples equal? {equal}\")\n",
    "not_equal = tuple1 != tuple2\n",
    "print(f\"Are the tuples not equal? {not_equal}\")\n",
    "less_than = tuple1 < tuple2\n",
    "print(f\"Is tuple1 less than tuple2? {less_than}\")\n",
    "less_than_or_equal = tuple1 <= tuple2\n",
    "print(f\"Is tuple1 less than or equal to tuple2? {less_than_or_equal}\")\n",
    "greater_than = tuple1 > tuple2\n",
    "print(f\"Is tuple1 greater than tuple2? {greater_than}\")\n",
    "greater_than_or_equal = tuple1 >= tuple2\n",
    "print(f\"Is tuple1 greater than or equal to tuple2? {greater_than_or_equal}\")"
   ]
  },
  {
   "cell_type": "code",
   "execution_count": 40,
   "id": "ae313bd5-aca1-435b-add3-111368162679",
   "metadata": {},
   "outputs": [
    {
     "name": "stdout",
     "output_type": "stream",
     "text": [
      "None\n"
     ]
    }
   ],
   "source": [
    "#19. Delete a tuple.\n",
    "tup=(1,3,5,7)\n",
    "tup=None\n",
    "print(tup)\n"
   ]
  },
  {
   "cell_type": "code",
   "execution_count": 41,
   "id": "9fade5db-af2f-4312-8079-7f4bcb5b13b9",
   "metadata": {},
   "outputs": [
    {
     "name": "stdout",
     "output_type": "stream",
     "text": [
      "(2, 9, 7, 5)\n",
      "(5, 2, 9, 7)\n",
      "(8, 1, 4, 3)\n",
      "(5, 9, 5, 1, 3)\n",
      "(3, 4, 1, 8, 5, 7, 9, 2, 5)\n"
     ]
    }
   ],
   "source": [
    "#20. Slice a tuple.\n",
    "tup = (5,2,9,7,5,8,1,4,3)\n",
    "print(tup[1:5])\n",
    "print(tup[:4])\n",
    "print(tup[5:])\n",
    "print(tup[::2])\n",
    "print(tup[::-1])"
   ]
  },
  {
   "cell_type": "code",
   "execution_count": 43,
   "id": "40252dc6-d70d-4efd-b634-c81290c66f5e",
   "metadata": {},
   "outputs": [
    {
     "name": "stdout",
     "output_type": "stream",
     "text": [
      "9\n"
     ]
    }
   ],
   "source": [
    "#21. Find the maximum value in a tuple.\n",
    "tup = (5,2,9,7,5,8,1,4,3)\n",
    "res=max(tup)\n",
    "print(res)"
   ]
  },
  {
   "cell_type": "code",
   "execution_count": 44,
   "id": "a612d480-3866-4dbf-8048-f75f81d67f74",
   "metadata": {},
   "outputs": [
    {
     "name": "stdout",
     "output_type": "stream",
     "text": [
      "1\n"
     ]
    }
   ],
   "source": [
    "#22. Find the minimum value in a tuple.\n",
    "tup = (5,2,9,7,8,1)\n",
    "res=min(tup)\n",
    "print(res)"
   ]
  },
  {
   "cell_type": "code",
   "execution_count": 45,
   "id": "1d9bd679-96a7-4bc7-b5be-e8ccf06a7059",
   "metadata": {},
   "outputs": [
    {
     "name": "stdout",
     "output_type": "stream",
     "text": [
      "('i', 'love', 'hyderabad')\n"
     ]
    }
   ],
   "source": [
    "#23. Convert a string to a tuple of characters.\n",
    "string=\"i love hyderabad\"\n",
    "print(tuple(string.split()))\n"
   ]
  },
  {
   "cell_type": "code",
   "execution_count": 46,
   "id": "cca96d2e-f8c6-4db1-ac57-674ee5559e40",
   "metadata": {},
   "outputs": [
    {
     "name": "stdout",
     "output_type": "stream",
     "text": [
      "i love hyderabad\n"
     ]
    }
   ],
   "source": [
    "#24. Convert a tuple of characters to a string.\n",
    "tup=(\"i\",\"love\",\"hyderabad\")\n",
    "print(' '.join(tup))"
   ]
  },
  {
   "cell_type": "code",
   "execution_count": 47,
   "id": "b000ded3-ce78-4384-b54a-c2acdb9d469b",
   "metadata": {},
   "outputs": [
    {
     "name": "stdout",
     "output_type": "stream",
     "text": [
      "(1, 'hello', 3.14, True, [1, 2, 3])\n"
     ]
    }
   ],
   "source": [
    "#25. Create a tuple from multiple data types.\n",
    "my_tuple = (1, \"hello\", 3.14, True, [1, 2, 3])\n",
    "print(my_tuple)"
   ]
  },
  {
   "cell_type": "code",
   "execution_count": 48,
   "id": "18ee19ba-c755-4671-822c-2314740f4703",
   "metadata": {},
   "outputs": [
    {
     "name": "stdout",
     "output_type": "stream",
     "text": [
      "True\n",
      "False\n"
     ]
    }
   ],
   "source": [
    "#26. Check if two tuples are identical.\n",
    "tuple1 = (1, 2, 3)\n",
    "tuple2 = (1, 2, 3)\n",
    "tuple3 = (1, 2, 4)\n",
    "print(tuple1 == tuple2)\n",
    "print(tuple1 == tuple3)"
   ]
  },
  {
   "cell_type": "code",
   "execution_count": 50,
   "id": "5accd8a8-729d-440c-ba0d-f5d1633c731a",
   "metadata": {},
   "outputs": [
    {
     "name": "stdout",
     "output_type": "stream",
     "text": [
      "(1, 2, 4, 5, 6, 8)\n"
     ]
    }
   ],
   "source": [
    "#27. Sort the elements of a tuple.\n",
    "tup=(1,5,8,4,2,6)\n",
    "res=tuple(sorted(tup))\n",
    "print(res)"
   ]
  },
  {
   "cell_type": "code",
   "execution_count": 52,
   "id": "3ef4d9ac-a6c7-4af3-bc93-77beda0fc632",
   "metadata": {},
   "outputs": [
    {
     "name": "stdout",
     "output_type": "stream",
     "text": [
      "('1', '3', '6', '8', '9')\n"
     ]
    }
   ],
   "source": [
    "#28. Convert a tuple of integers to a tuple of strings.\n",
    "tup=(1,3,6,8,9)\n",
    "res=tuple([str(i) for i in tup])\n",
    "print(res)"
   ]
  },
  {
   "cell_type": "code",
   "execution_count": 53,
   "id": "d034448e-8f39-4f69-bd22-056d513d8ebf",
   "metadata": {},
   "outputs": [
    {
     "name": "stdout",
     "output_type": "stream",
     "text": [
      "(1, 2, 4, 6, 8)\n"
     ]
    }
   ],
   "source": [
    "#29. Convert a tuple of strings to a tuple of integers.\n",
    "tup=('1','2','4','6','8')\n",
    "res=tuple([int(i) for i in tup])\n",
    "print(res)"
   ]
  },
  {
   "cell_type": "code",
   "execution_count": 55,
   "id": "77a492d2-d6f1-4567-8603-b768192e00b6",
   "metadata": {},
   "outputs": [
    {
     "name": "stdout",
     "output_type": "stream",
     "text": [
      "(1, 5, 7, 9, 2, 6, 4, 3)\n"
     ]
    }
   ],
   "source": [
    "#30. Merge two tuples.\n",
    "tup1=(1,5,7,9)\n",
    "tup2=(2,6,4,3)\n",
    "print(tup1 + tup2)"
   ]
  },
  {
   "cell_type": "code",
   "execution_count": 60,
   "id": "4badf7a2-36d0-4ddf-bad8-5cd04f575f58",
   "metadata": {},
   "outputs": [
    {
     "name": "stdout",
     "output_type": "stream",
     "text": [
      "(1, 2, 3, 4, 5, 6, 7)\n"
     ]
    }
   ],
   "source": [
    "#31. Flatten a nested tuple.\n",
    "def flatten_tuple(t):\n",
    "    result = []\n",
    "    for i in t:\n",
    "        if isinstance(i, tuple):\n",
    "            result.extend(flatten_tuple(i))\n",
    "        else:\n",
    "            result.append(i)\n",
    "    return tuple(result)\n",
    "nested_tuple = (1, (2, 3), (4, (5, 6), 7))\n",
    "flat_tuple = flatten_tuple(nested_tuple)\n",
    "print(flat_tuple)  "
   ]
  },
  {
   "cell_type": "code",
   "execution_count": 61,
   "id": "df9b42ae-e421-4253-8c64-4a910b9985e1",
   "metadata": {},
   "outputs": [
    {
     "name": "stdout",
     "output_type": "stream",
     "text": [
      "(2, 3, 5, 7, 11)\n"
     ]
    }
   ],
   "source": [
    "#32. Create a tuple of the first 5 prime numbers.\n",
    "def generate_primes(n):\n",
    "    primes = []\n",
    "    i = 2\n",
    "    while len(primes) < n:\n",
    "        for p in primes:\n",
    "            if i % p == 0:\n",
    "                break\n",
    "        else:\n",
    "            primes.append(i)\n",
    "        i += 1\n",
    "    return tuple(primes)\n",
    "prime_tuple = generate_primes(5)\n",
    "print(prime_tuple) "
   ]
  },
  {
   "cell_type": "code",
   "execution_count": 64,
   "id": "8210ab28-bcb7-468a-a337-9462c749dc85",
   "metadata": {},
   "outputs": [
    {
     "name": "stdout",
     "output_type": "stream",
     "text": [
      "True\n",
      "False\n"
     ]
    }
   ],
   "source": [
    "#33. Check if a tuple is a palindrome.\n",
    "def is_palindrome_tuple(t):\n",
    "    return t == t[::-1]\n",
    "tuple1 = (1, 2, 3, 2, 1)\n",
    "tuple2 = (1, 2, 3, 4, 5)\n",
    "\n",
    "print(is_palindrome_tuple(tuple1)) \n",
    "print(is_palindrome_tuple(tuple2)) "
   ]
  },
  {
   "cell_type": "code",
   "execution_count": 69,
   "id": "47cd4444-363e-4b3d-94b6-af1f0614db25",
   "metadata": {},
   "outputs": [
    {
     "name": "stdout",
     "output_type": "stream",
     "text": [
      "(1, 4, 9, 16, 25)\n"
     ]
    }
   ],
   "source": [
    "#34. Create a tuple of squares of numbers from 1 to 5.\n",
    "res=tuple([i**2 for i in range(1,6)])\n",
    "print(res)"
   ]
  },
  {
   "cell_type": "code",
   "execution_count": 73,
   "id": "68fd8942-3a56-48b0-9a8b-6a6f81a96715",
   "metadata": {},
   "outputs": [
    {
     "name": "stdout",
     "output_type": "stream",
     "text": [
      "(2, 8)\n"
     ]
    }
   ],
   "source": [
    "#35. Filter out all even numbers from a tuple.\n",
    "tup=(1,2,3,7,8,5)\n",
    "even_numbers=tuple([i for i in tup if i%2==0])\n",
    "print(even_numbers)"
   ]
  },
  {
   "cell_type": "code",
   "execution_count": 74,
   "id": "84b26c7e-807f-4ab8-8335-100f9b864104",
   "metadata": {},
   "outputs": [
    {
     "name": "stdout",
     "output_type": "stream",
     "text": [
      "(2, 4, 6, 8, 10)\n"
     ]
    }
   ],
   "source": [
    "#36. Multiply all elements in a tuple by 2.\n",
    "tup=(1,2,3,4,5)\n",
    "res=tuple([i*2 for i in tup])\n",
    "print(res)\n"
   ]
  },
  {
   "cell_type": "code",
   "execution_count": 76,
   "id": "75cf500b-5d9f-4b7f-ae1d-66f98d08a455",
   "metadata": {},
   "outputs": [
    {
     "name": "stdout",
     "output_type": "stream",
     "text": [
      "(2, 97, 16, 68, 39)\n"
     ]
    }
   ],
   "source": [
    "#37. Create a tuple of random numbers.\n",
    "import random\n",
    "random_tuple = tuple(random.randint(1, 100) for i in range(5))\n",
    "print(random_tuple)\n",
    "    "
   ]
  },
  {
   "cell_type": "code",
   "execution_count": 87,
   "id": "8e508c98-e880-4b6b-a125-cc5e56b05f9e",
   "metadata": {},
   "outputs": [
    {
     "name": "stdout",
     "output_type": "stream",
     "text": [
      "True\n"
     ]
    }
   ],
   "source": [
    "#38. Check if a tuple is sorted.\n",
    "def is_sorted(tup):\n",
    "    return all(tup[i] <= tup[i + 1] for i in range(len(tup) - 1))\n",
    "my_tuple = (1, 2, 3, 4, 5)\n",
    "print(is_sorted(my_tuple))"
   ]
  },
  {
   "cell_type": "code",
   "execution_count": 90,
   "id": "67272c28-1e77-42ad-810a-5ff216ed9f0d",
   "metadata": {},
   "outputs": [
    {
     "name": "stdout",
     "output_type": "stream",
     "text": [
      "(4, 5, 1, 2, 3)\n"
     ]
    }
   ],
   "source": [
    "#39. Rotate a tuple to the left by `n` positions.\n",
    "def rotate_tuple_left(my_tuple, n):\n",
    "    return tup[n:] + tup[:n]\n",
    "my_tuple = (1, 2, 3, 4, 5)\n",
    "n = 3\n",
    "print(rotate_tuple_left(my_tuple, n))  "
   ]
  },
  {
   "cell_type": "code",
   "execution_count": 92,
   "id": "938a05d0-0e12-478e-bb4c-122643e09aaa",
   "metadata": {},
   "outputs": [
    {
     "name": "stdout",
     "output_type": "stream",
     "text": [
      "(3, 4, 5, 1, 2)\n"
     ]
    }
   ],
   "source": [
    "#40. Rotate a tuple to the right by `n` positions.\n",
    "def rotate_tuple_right(my_tuple, n):\n",
    "    return tup[-n:] + tup[:-n]\n",
    "my_tuple = (1, 2, 3, 4, 5)\n",
    "n = 3\n",
    "print(rotate_tuple_right(my_tuple, n))  "
   ]
  },
  {
   "cell_type": "code",
   "execution_count": 93,
   "id": "f2399442-7325-4e70-8c0d-0b438f925b92",
   "metadata": {},
   "outputs": [
    {
     "name": "stdout",
     "output_type": "stream",
     "text": [
      "(0, 1, 1, 2, 3)\n"
     ]
    }
   ],
   "source": [
    "#41. Create a tuple of the first 5 Fibonacci numbers.\n",
    "def fibonacci_tuple(n):\n",
    "    fib_seq = [0, 1]\n",
    "    while len(fib_seq) < n:\n",
    "        fib_seq.append(fib_seq[-1] + fib_seq[-2])\n",
    "    return tuple(fib_seq)\n",
    "n = 5\n",
    "print(fibonacci_tuple(n)) \n"
   ]
  },
  {
   "cell_type": "code",
   "execution_count": 98,
   "id": "f3153d2f-9610-433e-bf85-3d970fdecbb1",
   "metadata": {},
   "outputs": [
    {
     "name": "stdin",
     "output_type": "stream",
     "text": [
      "Enter a comma-separated list of values:  5,7,8,9,1\n"
     ]
    },
    {
     "name": "stdout",
     "output_type": "stream",
     "text": [
      "(5, 7, 8, 9, 1)\n"
     ]
    }
   ],
   "source": [
    "#42. Create a tuple from user input.\n",
    "def create_tuple_from_input():\n",
    "    user_input = input(\"Enter a comma-separated list of values: \")\n",
    "    return tuple(map(int, user_input.split(',')))\n",
    "my_tuple = create_tuple_from_input()\n",
    "print(my_tuple)\n",
    "\n"
   ]
  },
  {
   "cell_type": "code",
   "execution_count": 100,
   "id": "41bf015a-e1c4-484b-9a77-66e7da53bf3d",
   "metadata": {},
   "outputs": [
    {
     "name": "stdout",
     "output_type": "stream",
     "text": [
      "(1, 4, 3, 2, 5)\n"
     ]
    }
   ],
   "source": [
    "#43. Swap two elements in a tuple.\n",
    "tup = (1,2,3,4,5)\n",
    "tup = list(tup)  \n",
    "tup[1], tup[3] = tup[3], tup[1]\n",
    "tup = tuple(tup)\n",
    "\n",
    "print(tup)  "
   ]
  },
  {
   "cell_type": "code",
   "execution_count": 104,
   "id": "c41c0ab9-ce5b-4851-b2bb-a495e97124ba",
   "metadata": {},
   "outputs": [
    {
     "name": "stdout",
     "output_type": "stream",
     "text": [
      "(5, 4, 3, 2, 1)\n"
     ]
    }
   ],
   "source": [
    "#44. Reverse the elements of a tuple.\n",
    "tup=(1,2,3,4,5)\n",
    "t=list(tup)\n",
    "res=t[: :-1]\n",
    "r=tuple(res)\n",
    "print(r)"
   ]
  },
  {
   "cell_type": "code",
   "execution_count": 105,
   "id": "f5e2f8fe-6b76-4048-adfe-aea8b66601d7",
   "metadata": {},
   "outputs": [
    {
     "name": "stdout",
     "output_type": "stream",
     "text": [
      "(1, 2, 4, 8, 16)\n"
     ]
    }
   ],
   "source": [
    "#45. Create a tuple of the first `n` powers of 2.\n",
    "def powers_of_two(n):\n",
    "    return tuple(2 ** i for i in range(n))\n",
    "my_tuple = powers_of_two(5)\n",
    "print(my_tuple)"
   ]
  },
  {
   "cell_type": "code",
   "execution_count": 106,
   "id": "b4a917dd-0627-40b0-8973-312f259014d7",
   "metadata": {},
   "outputs": [
    {
     "name": "stdout",
     "output_type": "stream",
     "text": [
      "morning\n"
     ]
    }
   ],
   "source": [
    "#46. Find the longest string in a tuple of strings.\n",
    "tup=(\"hello\",\"good\",\"morning\")\n",
    "res=max(tup)\n",
    "print(res)"
   ]
  },
  {
   "cell_type": "code",
   "execution_count": 114,
   "id": "2717f3e3-c13a-42ee-b55c-badad0ceb82a",
   "metadata": {},
   "outputs": [
    {
     "name": "stdout",
     "output_type": "stream",
     "text": [
      "good\n"
     ]
    }
   ],
   "source": [
    "#47. Find the shortest string in a tuple of strings.\n",
    "tup=(\"hello\",\"good\",\"morning\")\n",
    "res=min(tup)\n",
    "print(res)"
   ]
  },
  {
   "cell_type": "code",
   "execution_count": 112,
   "id": "56d1a974-c488-48f7-82f1-524a8f83a78f",
   "metadata": {},
   "outputs": [
    {
     "name": "stdout",
     "output_type": "stream",
     "text": [
      "(1, 3, 6, 10, 15)\n"
     ]
    }
   ],
   "source": [
    "#48. Create a tuple of the first `n` triangular numbers.\n",
    "def generate_triangular_numbers(n):\n",
    "    return tuple(i * (i + 1) // 2 for i in range(1, n + 1))\n",
    "n = 5\n",
    "triangular_numbers_tuple = generate_triangular_numbers(n)\n",
    "print(triangular_numbers_tuple)"
   ]
  },
  {
   "cell_type": "code",
   "execution_count": 117,
   "id": "ed0f6c10-2719-46ce-8ac7-fb8497a9f090",
   "metadata": {},
   "outputs": [
    {
     "name": "stdout",
     "output_type": "stream",
     "text": [
      "True\n"
     ]
    }
   ],
   "source": [
    "#49. Check if a tuple contains another tuple as a subsequence.\n",
    "def is_subsequence(subseq, seq_tuple):\n",
    "    subseq_it = iter(subseq)\n",
    "    return all(elem in seq_tuple for elem in subseq_tuple)\n",
    "subseq_tuple = (1, 3, 5)\n",
    "seq_tuple = (1, 2, 3, 4, 5, 6)\n",
    "\n",
    "print(is_subsequence(subseq_tuple, seq_tuple))"
   ]
  },
  {
   "cell_type": "code",
   "execution_count": 118,
   "id": "4e5d5c91-ad6e-48b8-825d-b151ee887688",
   "metadata": {},
   "outputs": [
    {
     "name": "stdout",
     "output_type": "stream",
     "text": [
      "(0, 1, 0, 1, 0)\n"
     ]
    }
   ],
   "source": [
    "#50. Create a tuple of alternating 1s and 0s of length `n`.\n",
    "def create_alternating_tuple(n):\n",
    "    return tuple(i % 2 for i in range(n\n",
    "n = 5 \n",
    "alternating_tuple = create_alternating_tuple(n)\n",
    "print(alternating_tuple)"
   ]
  }
 ],
 "metadata": {
  "kernelspec": {
   "display_name": "Python 3 (ipykernel)",
   "language": "python",
   "name": "python3"
  },
  "language_info": {
   "codemirror_mode": {
    "name": "ipython",
    "version": 3
   },
   "file_extension": ".py",
   "mimetype": "text/x-python",
   "name": "python",
   "nbconvert_exporter": "python",
   "pygments_lexer": "ipython3",
   "version": "3.10.8"
  }
 },
 "nbformat": 4,
 "nbformat_minor": 5
}
{
 "cells": [
  {
   "cell_type": "code",
   "execution_count": 1,
   "id": "2f3437ec-bd8a-4e2c-9442-81e878f04bd4",
   "metadata": {},
   "outputs": [
    {
     "name": "stdout",
     "output_type": "stream",
     "text": [
      "{1, 2, 3, 4, 5}\n"
     ]
    }
   ],
   "source": [
    "#1. Create a set with integers from 1 to 5.\n",
    "s={ }\n",
    "x=list(s)\n",
    "for i in range(1,6):\n",
    "    x.append(i)\n",
    "t=set(x)\n",
    "print(t)\n",
    "    "
   ]
  },
  {
   "cell_type": "code",
   "execution_count": 6,
   "id": "9f667e1b-b2e4-4d5f-a9a9-b32fc82159d5",
   "metadata": {},
   "outputs": [
    {
     "name": "stdout",
     "output_type": "stream",
     "text": [
      "{1, 2, 3, 4, 5, 6}\n"
     ]
    }
   ],
   "source": [
    "#2. Add an element to a set.\n",
    "s={1,2,3,4,5}\n",
    "s.add(6)\n",
    "print(s)"
   ]
  },
  {
   "cell_type": "code",
   "execution_count": 7,
   "id": "8f8a69a2-cb91-4d1c-8d8b-e2ba104ef754",
   "metadata": {},
   "outputs": [
    {
     "name": "stdout",
     "output_type": "stream",
     "text": [
      "{1, 2, 3, 5}\n"
     ]
    }
   ],
   "source": [
    "#3. Remove an element from a set.\n",
    "s={1,2,3,4,5}\n",
    "s.remove(4)\n",
    "print(s)"
   ]
  },
  {
   "cell_type": "code",
   "execution_count": 9,
   "id": "2cddd03b-6643-4ff8-9444-9629cb4e1bbf",
   "metadata": {},
   "outputs": [
    {
     "name": "stdin",
     "output_type": "stream",
     "text": [
      "enter a number 5\n"
     ]
    },
    {
     "name": "stdout",
     "output_type": "stream",
     "text": [
      "exists\n"
     ]
    }
   ],
   "source": [
    "#4. Check if an element exists in a set.\n",
    "s={1,2,3,4,5}\n",
    "n=int(input(\"enter a number\"))\n",
    "if n in s:\n",
    "    print(\"exists\")\n",
    "else:\n",
    "    print(\"doesn't exist\")"
   ]
  },
  {
   "cell_type": "code",
   "execution_count": 11,
   "id": "9e057005-e1e6-4b2e-ba19-00f115924f05",
   "metadata": {},
   "outputs": [
    {
     "name": "stdout",
     "output_type": "stream",
     "text": [
      "5\n"
     ]
    }
   ],
   "source": [
    "#5. Find the length of a set without using the `len()` function.\n",
    "s={1,2,3,4,5}\n",
    "count=0\n",
    "for i in s:\n",
    "    count+=1\n",
    "print(count)"
   ]
  },
  {
   "cell_type": "code",
   "execution_count": 14,
   "id": "61ac3d49-23bc-434b-b034-dd67b52a399e",
   "metadata": {},
   "outputs": [
    {
     "name": "stdout",
     "output_type": "stream",
     "text": [
      "set()\n"
     ]
    }
   ],
   "source": [
    "#6. Clear all elements from a set.\n",
    "s={1,2,3,4,5}\n",
    "s.clear()\n",
    "print(s)"
   ]
  },
  {
   "cell_type": "code",
   "execution_count": 15,
   "id": "48d89769-9cab-4e7e-a1dc-b54885d5f5ef",
   "metadata": {},
   "outputs": [
    {
     "name": "stdout",
     "output_type": "stream",
     "text": [
      "{2, 4, 6, 8, 10}\n"
     ]
    }
   ],
   "source": [
    "#7. Create a set of even numbers from 1 to 10.\n",
    "s=set([i for i in range(1,11) if i%2==0])\n",
    "print(s)"
   ]
  },
  {
   "cell_type": "code",
   "execution_count": 16,
   "id": "2ea77246-e1f1-4b57-b066-df5364bba56a",
   "metadata": {},
   "outputs": [
    {
     "name": "stdout",
     "output_type": "stream",
     "text": [
      "{1, 3, 5, 7, 9}\n"
     ]
    }
   ],
   "source": [
    "#8. Create a set of odd numbers from 1 to 10.\n",
    "s=set([i for i in range(1,11) if i%2!=0])\n",
    "print(s)"
   ]
  },
  {
   "cell_type": "code",
   "execution_count": 19,
   "id": "4351389d-42a1-4aff-a238-c36d4f7708be",
   "metadata": {},
   "outputs": [
    {
     "name": "stdout",
     "output_type": "stream",
     "text": [
      "{1, 2, 3, 4, 5, 6, 7, 8, 9}\n"
     ]
    }
   ],
   "source": [
    "#9. Find the union of two sets.\n",
    "set1={1,2,3,4,5}\n",
    "set2={6,7,8,9}\n",
    "union_set = set1.union(set2)\n",
    "print(union_set)"
   ]
  },
  {
   "cell_type": "code",
   "execution_count": 21,
   "id": "9335795f-bd02-4260-b2e9-2bc7e36c6e28",
   "metadata": {},
   "outputs": [
    {
     "name": "stdout",
     "output_type": "stream",
     "text": [
      "{2, 3, 4}\n"
     ]
    }
   ],
   "source": [
    "#10. Find the intersection of two sets.\n",
    "set1={1,2,3,4,5}\n",
    "set2={7,4,3,2}\n",
    "intersection_set = set1.intersection(set2)\n",
    "print(intersection_set)"
   ]
  },
  {
   "cell_type": "code",
   "execution_count": 24,
   "id": "64c5fbb0-dfe2-4058-ac66-e9516437c8d7",
   "metadata": {},
   "outputs": [
    {
     "name": "stdout",
     "output_type": "stream",
     "text": [
      "{3, 5}\n"
     ]
    }
   ],
   "source": [
    "#11. Find the difference between two sets.\n",
    "set1={1,2,3,4,5}\n",
    "set2={6,4,2,1}\n",
    "diff_set = set1.difference(set2)\n",
    "print(diff_set)"
   ]
  },
  {
   "cell_type": "code",
   "execution_count": 29,
   "id": "2d037e86-632a-45aa-a63a-dc1b9fa4c8ab",
   "metadata": {},
   "outputs": [
    {
     "name": "stdout",
     "output_type": "stream",
     "text": [
      "True\n"
     ]
    }
   ],
   "source": [
    "#12. Check if a set is a subset of another set.\n",
    "set1 = {1, 2, 3, 4, 5}\n",
    "set2 = {3,4,5}\n",
    "is_subset = set2.issubset(set1)\n",
    "print(is_subset)"
   ]
  },
  {
   "cell_type": "code",
   "execution_count": 30,
   "id": "a6d5b0db-f4a4-45c1-baea-c2a51708963b",
   "metadata": {},
   "outputs": [
    {
     "name": "stdout",
     "output_type": "stream",
     "text": [
      "False\n"
     ]
    }
   ],
   "source": [
    "#13. Check if a set is a superset of another set.\n",
    "set1 = {1, 2, 3, 4, 5}\n",
    "set2 = {4, 5, 6, 7, 8}\n",
    "is_superset = set2.issuperset(set1)\n",
    "print(is_superset)"
   ]
  },
  {
   "cell_type": "code",
   "execution_count": 32,
   "id": "87ebaa55-aa1f-477b-83cf-f0622c402572",
   "metadata": {},
   "outputs": [
    {
     "name": "stdout",
     "output_type": "stream",
     "text": [
      "{1, 2, 3, 4, 5}\n"
     ]
    }
   ],
   "source": [
    "#14. Create a set from a list.\n",
    "lst=[1,2,3,4,5]\n",
    "s=set(lst)\n",
    "print(s)"
   ]
  },
  {
   "cell_type": "code",
   "execution_count": 33,
   "id": "dbc38665-41ef-4adb-9e0e-068a905f3bd5",
   "metadata": {},
   "outputs": [
    {
     "name": "stdout",
     "output_type": "stream",
     "text": [
      "[1, 2, 3, 4, 5]\n"
     ]
    }
   ],
   "source": [
    "#15. Convert a set to a list.\n",
    "s={1,2,3,4,5}\n",
    "lst=list(s)\n",
    "print(lst)"
   ]
  },
  {
   "cell_type": "code",
   "execution_count": null,
   "id": "a64f11a9-0829-4f86-95a2-9fbcececd62b",
   "metadata": {},
   "outputs": [],
   "source": []
  }
 ],
 "metadata": {
  "kernelspec": {
   "display_name": "Python 3 (ipykernel)",
   "language": "python",
   "name": "python3"
  },
  "language_info": {
   "codemirror_mode": {
    "name": "ipython",
    "version": 3
   },
   "file_extension": ".py",
   "mimetype": "text/x-python",
   "name": "python",
   "nbconvert_exporter": "python",
   "pygments_lexer": "ipython3",
   "version": "3.10.8"
  }
 },
 "nbformat": 4,
 "nbformat_minor": 5
}
{
 "cells": [
  {
   "cell_type": "code",
   "execution_count": 1,
   "id": "86e364ff-f2e0-4b01-a5c6-745d168ee771",
   "metadata": {},
   "outputs": [
    {
     "name": "stdout",
     "output_type": "stream",
     "text": [
      "The input set is: {1, 2, 3, 4, 5, 6}\n",
      "The output set is: {1, 2, 4, 5, 6}\n"
     ]
    }
   ],
   "source": [
    "#16. Remove a random element from a set.\n",
    "mySet = {1, 2, 3, 4, 5, 6}\n",
    "print(\"The input set is:\", mySet)\n",
    "mySet.remove(3)\n",
    "print(\"The output set is:\", mySet)"
   ]
  },
  {
   "cell_type": "code",
   "execution_count": 4,
   "id": "4ace8c9c-d777-477f-ad7d-35673ed14846",
   "metadata": {},
   "outputs": [
    {
     "name": "stdout",
     "output_type": "stream",
     "text": [
      "a\n"
     ]
    }
   ],
   "source": [
    "#17. Pop an element from a set\n",
    "A = {'a', 'b', 'c', 'd'}\n",
    "removed_item = A.pop()\n",
    "print(removed_item)"
   ]
  },
  {
   "cell_type": "code",
   "execution_count": 5,
   "id": "386315de-80ca-4f2a-bf5c-2d44c35b9ab1",
   "metadata": {},
   "outputs": [
    {
     "name": "stdout",
     "output_type": "stream",
     "text": [
      "The sets have no elements in common.\n"
     ]
    }
   ],
   "source": [
    "#18. Check if two sets have no elements in common\n",
    "set1 = {1, 2, 3, 4, 5}\n",
    "set2 = {6, 7, 8, 9, 10}\n",
    "if set1.isdisjoint(set2):\n",
    "    print(\"The sets have no elements in common.\")\n",
    "else:\n",
    "    print(\"The sets have elements in common.\")"
   ]
  },
  {
   "cell_type": "code",
   "execution_count": 6,
   "id": "38ee33ef-4fd9-4010-8c6c-d478727cca35",
   "metadata": {},
   "outputs": [
    {
     "name": "stdout",
     "output_type": "stream",
     "text": [
      "Symmetric difference: {1, 2, 3, 6, 7, 8}\n"
     ]
    }
   ],
   "source": [
    "#19. Find the symmetric difference between two sets.\n",
    "set1 = {1, 2, 3, 4, 5}\n",
    "set2 = {4, 5, 6, 7, 8}\n",
    "symmetric_diff = set1.symmetric_difference(set2)\n",
    "print(\"Symmetric difference:\", symmetric_diff)\n"
   ]
  },
  {
   "cell_type": "code",
   "execution_count": 7,
   "id": "7a3b1c38-5408-49b0-bafc-c67fd7f54b50",
   "metadata": {},
   "outputs": [
    {
     "name": "stdout",
     "output_type": "stream",
     "text": [
      "{1, 2, 3, 4, 5, 6, 7}\n"
     ]
    }
   ],
   "source": [
    "#20. Update a set with elements from another set.\n",
    "set1 = {1, 2, 3, 4, 5}\n",
    "set2 = {4, 5, 6, 7}\n",
    "set1.update(set2)\n",
    "print(set1)"
   ]
  },
  {
   "cell_type": "code",
   "execution_count": 8,
   "id": "3df23f6b-16b9-44f5-ab96-cd2dc472c6a5",
   "metadata": {},
   "outputs": [
    {
     "name": "stdin",
     "output_type": "stream",
     "text": [
      "Enter the start of range:  1\n",
      "Enter the end of range:  11\n"
     ]
    },
    {
     "name": "stdout",
     "output_type": "stream",
     "text": [
      "2 3 5 7 11 "
     ]
    }
   ],
   "source": [
    "#21. Create a set of the first 5 prime numbers\n",
    "start = int(input(\"Enter the start of range: \"))\n",
    "end = int(input(\"Enter the end of range: \"))\n",
    "\n",
    "for num in range(start, end + 1):\n",
    "    if num > 1:\n",
    "        for i in range(2, int(num**0.5) + 1):\n",
    "            if (num % i) == 0:\n",
    "                break\n",
    "        else:\n",
    "            print(num,end=' ')"
   ]
  },
  {
   "cell_type": "code",
   "execution_count": 9,
   "id": "ac28835d-e3ab-4e1a-8a51-653a5ea9a2fa",
   "metadata": {},
   "outputs": [
    {
     "name": "stdout",
     "output_type": "stream",
     "text": [
      "The sets are identical.\n"
     ]
    }
   ],
   "source": [
    "#22. Check if two sets are identical.\n",
    "set1 = {1, 2, 3}\n",
    "set2 = {3, 2, 1}\n",
    "\n",
    "if set1 == set2:\n",
    "    print(\"The sets are identical.\")\n",
    "else:\n",
    "    print(\"The sets are not identical.\")\n"
   ]
  },
  {
   "cell_type": "code",
   "execution_count": 10,
   "id": "07df75bf-e92f-424d-a92e-f62a93e63043",
   "metadata": {},
   "outputs": [
    {
     "name": "stdout",
     "output_type": "stream",
     "text": [
      "frozenset({1, 2, 3})\n"
     ]
    }
   ],
   "source": [
    "#23. Create a frozen set.\n",
    "my_set = {1, 2, 3}\n",
    "my_frozen_set = frozenset(my_set)\n",
    "print(my_frozen_set)\n"
   ]
  },
  {
   "cell_type": "code",
   "execution_count": 15,
   "id": "2d892300-0202-4328-84be-ff4a8c61f46c",
   "metadata": {},
   "outputs": [
    {
     "name": "stdout",
     "output_type": "stream",
     "text": [
      "True\n"
     ]
    }
   ],
   "source": [
    "#24. Check if a set is disjoint with another set.\n",
    "set1 = {1,2,3}\n",
    "set2 = {7,8,9}\n",
    "res=set1.isdisjoint(set2)\n",
    "print(res)"
   ]
  },
  {
   "cell_type": "code",
   "execution_count": 14,
   "id": "a96b2e72-0373-4d1a-8beb-8270e7349bbf",
   "metadata": {},
   "outputs": [
    {
     "name": "stdout",
     "output_type": "stream",
     "text": [
      "{1, 4, 9, 16, 25}\n"
     ]
    }
   ],
   "source": [
    "#25. Create a set of squares of numbers from 1 to 5.\n",
    "squares_numbers=set([i**2 for i in range(1,6)])\n",
    "print(squares_numbers)"
   ]
  },
  {
   "cell_type": "code",
   "execution_count": 16,
   "id": "115c33ff-1844-4671-bf80-24a442b5b78d",
   "metadata": {},
   "outputs": [
    {
     "name": "stdout",
     "output_type": "stream",
     "text": [
      "{2, 4, 6}\n"
     ]
    }
   ],
   "source": [
    "#26. Filter out all even numbers from a set.\n",
    "s={1,2,3,4,5,6}\n",
    "res=set([i for i in s if i%2==0])\n",
    "print(res)"
   ]
  },
  {
   "cell_type": "code",
   "execution_count": 17,
   "id": "32c34dbf-2fb3-47ef-9efb-8e351d7c4eab",
   "metadata": {},
   "outputs": [
    {
     "name": "stdout",
     "output_type": "stream",
     "text": [
      "{2, 4, 6, 8, 10, 12}\n"
     ]
    }
   ],
   "source": [
    "#27. Multiply all elements in a set by 2.\n",
    "s={1,2,3,4,5,6}\n",
    "res=set([i*2 for i in s])\n",
    "print(res)"
   ]
  },
  {
   "cell_type": "code",
   "execution_count": 21,
   "id": "1a59f2f7-d585-4d41-9fe8-11167437dbe6",
   "metadata": {},
   "outputs": [
    {
     "name": "stdout",
     "output_type": "stream",
     "text": [
      "{1, 3, 5, 8, 9}\n"
     ]
    }
   ],
   "source": [
    "#28. Create a set of random numbers.\n",
    "import random\n",
    "random_set = set(random.sample(range(1, 10), 5))\n",
    "print(random_set)\n"
   ]
  },
  {
   "cell_type": "code",
   "execution_count": 25,
   "id": "0a1f68f1-0a58-4872-abd7-f2afa94af394",
   "metadata": {},
   "outputs": [
    {
     "name": "stdout",
     "output_type": "stream",
     "text": [
      "empty\n"
     ]
    }
   ],
   "source": [
    "#29. Check if a set is empty.\n",
    "s={ }\n",
    "print(\"empty\" if len(s)==0  else \"not empty\")"
   ]
  },
  {
   "cell_type": "code",
   "execution_count": 26,
   "id": "abc3faea-444b-474e-84ca-1ebed3a20e04",
   "metadata": {},
   "outputs": [
    {
     "name": "stdout",
     "output_type": "stream",
     "text": [
      "{frozenset({1, 2, 3}), frozenset({4, 5, 6})}\n"
     ]
    }
   ],
   "source": [
    "#30. Create a nested set (hint: use frozenset).\n",
    "inner_set1 = frozenset([1, 2, 3])\n",
    "inner_set2 = frozenset([4, 5, 6])\n",
    "nested_set = {inner_set1, inner_set2}\n",
    "print(nested_set)\n"
   ]
  },
  {
   "cell_type": "code",
   "execution_count": 27,
   "id": "19217722-e734-403a-aa7c-1a1609957b95",
   "metadata": {},
   "outputs": [
    {
     "name": "stdout",
     "output_type": "stream",
     "text": [
      "{1, 2, 3, 4}\n"
     ]
    }
   ],
   "source": [
    "#31. Remove an element from a set using the discard method.\n",
    "s={1,2,3,4,5}\n",
    "s.discard(5)\n",
    "print(s)"
   ]
  },
  {
   "cell_type": "code",
   "execution_count": 29,
   "id": "757dc4ff-d607-4692-b152-ef1e66528566",
   "metadata": {},
   "outputs": [
    {
     "name": "stdout",
     "output_type": "stream",
     "text": [
      "set1 and set2 have the same elements.\n"
     ]
    }
   ],
   "source": [
    "#32. Compare two sets.\n",
    "set1 = {1, 2, 3}\n",
    "set2 = {1,2,3}\n",
    "if set1 < set2:\n",
    "    print(\"set1 is a proper subset of set2.\")\n",
    "elif set1 > set2:\n",
    "    print(\"set1 is a proper superset of set2.\")\n",
    "elif set1 == set2:\n",
    "    print(\"set1 and set2 have the same elements.\")\n",
    "else:\n",
    "    print(\"set1 and set2 are not comparable.\")"
   ]
  },
  {
   "cell_type": "code",
   "execution_count": 30,
   "id": "f403f66b-b216-456d-af7d-38fb60939367",
   "metadata": {},
   "outputs": [
    {
     "name": "stdout",
     "output_type": "stream",
     "text": [
      "{'good', 'morning', 'hello'}\n"
     ]
    }
   ],
   "source": [
    "#33. Create a set from a string.\n",
    "string=\"hello good morning\"\n",
    "s=set(string.split())\n",
    "print(s)"
   ]
  },
  {
   "cell_type": "code",
   "execution_count": 56,
   "id": "0e9d6d50-5c83-41e0-aa29-52085da28fbf",
   "metadata": {},
   "outputs": [
    {
     "name": "stdout",
     "output_type": "stream",
     "text": [
      "{1, 2, 3, 4, 5}\n"
     ]
    }
   ],
   "source": [
    "#34. Convert a set of strings to a set of integers.\n",
    "string_set = {\"1\", \"2\", \"3\", \"4\", \"5\"}\n",
    "int_set = {int(s) for s in string_set}\n",
    "print(int_set) "
   ]
  }
 ],
 "metadata": {
  "kernelspec": {
   "display_name": "Python 3 (ipykernel)",
   "language": "python",
   "name": "python3"
  },
  "language_info": {
   "codemirror_mode": {
    "name": "ipython",
    "version": 3
   },
   "file_extension": ".py",
   "mimetype": "text/x-python",
   "name": "python",
   "nbconvert_exporter": "python",
   "pygments_lexer": "ipython3",
   "version": "3.10.8"
  }
 },
 "nbformat": 4,
 "nbformat_minor": 5
}
{
 "cells": [
  {
   "cell_type": "code",
   "execution_count": 16,
   "id": "ca8b60d5-6502-462c-90b8-6e5591541f30",
   "metadata": {},
   "outputs": [
    {
     "name": "stdout",
     "output_type": "stream",
     "text": [
      "{'1', '3', '5', '4', '2'}\n"
     ]
    }
   ],
   "source": [
    "#35. Convert a set of integers to a set of strings.\n",
    "int_set = {1, 2, 3, 4, 5}\n",
    "res=set([str(i) for i in int_set])\n",
    "print(res)"
   ]
  },
  {
   "cell_type": "code",
   "execution_count": 17,
   "id": "cff94aa3-2b86-494b-a74d-58d9b9a459f0",
   "metadata": {},
   "outputs": [
    {
     "name": "stdout",
     "output_type": "stream",
     "text": [
      "{1, 2, 3, 4, 5}\n"
     ]
    }
   ],
   "source": [
    "#36. Create a set from a tuple.\n",
    "t=(1,2,3,4,5)\n",
    "set1=set(t)\n",
    "print(set1)"
   ]
  },
  {
   "cell_type": "code",
   "execution_count": 18,
   "id": "3c92dd01-5751-454d-b279-f1cdda5a2561",
   "metadata": {},
   "outputs": [
    {
     "name": "stdout",
     "output_type": "stream",
     "text": [
      "(1, 2, 3, 4, 5)\n"
     ]
    }
   ],
   "source": [
    "#37. Convert a set to a tuple.\n",
    "set1={1,2,3,4,5}\n",
    "t=tuple(set1)\n",
    "print(t)"
   ]
  },
  {
   "cell_type": "code",
   "execution_count": 37,
   "id": "49d91592-7061-416a-9f20-7e6979488f0d",
   "metadata": {},
   "outputs": [
    {
     "name": "stdout",
     "output_type": "stream",
     "text": [
      "maximum value: 9\n"
     ]
    }
   ],
   "source": [
    "#38. Find the maximum value in a set.\n",
    "s={9,2,3,4,5,8}\n",
    "x=list(s)\n",
    "curr_max=x[0]\n",
    "for i in s:\n",
    "    if i > curr_max:\n",
    "        curr_max=i\n",
    "print(\"maximum value:\",curr_max)"
   ]
  },
  {
   "cell_type": "code",
   "execution_count": 31,
   "id": "b04fc290-7da5-4195-ac9a-4b55f8711418",
   "metadata": {},
   "outputs": [
    {
     "name": "stdout",
     "output_type": "stream",
     "text": [
      "minimum value: 0\n"
     ]
    }
   ],
   "source": [
    "#39. Find the minimum value in a set.\n",
    "s={1,2,3,4,5,0}\n",
    "x=list(s)\n",
    "curr_min=x[0]\n",
    "for i in s:\n",
    "    if i<curr_min:\n",
    "        print(\"minimum value:\",i)\n",
    "else:\n",
    "    print(\"minimum value:\",curr_min)"
   ]
  },
  {
   "cell_type": "code",
   "execution_count": 24,
   "id": "8c762c59-d465-4dbe-8011-a5513ce299c4",
   "metadata": {},
   "outputs": [
    {
     "name": "stdin",
     "output_type": "stream",
     "text": [
      "Enter values separated by spaces:  1 4 7 8 9\n"
     ]
    },
    {
     "name": "stdout",
     "output_type": "stream",
     "text": [
      "Set of integers: {1, 4, 7, 8, 9}\n"
     ]
    }
   ],
   "source": [
    "#40. Create a set from user input.\n",
    "user_input = input(\"Enter values separated by spaces: \")\n",
    "elements = user_input.split()\n",
    "unique_elements_set = set(elements)\n",
    "try:\n",
    "    int_set = {int(element) for element in unique_elements_set}\n",
    "    print(\"Set of integers:\", int_set)\n",
    "except ValueError:\n",
    "    print(\"Please enter only numeric values.\")\n",
    "\n"
   ]
  },
  {
   "cell_type": "code",
   "execution_count": 40,
   "id": "ec2a3026-b8b1-4c07-947c-9fba2a1b2ec3",
   "metadata": {},
   "outputs": [
    {
     "name": "stdout",
     "output_type": "stream",
     "text": [
      "The intersection of the two sets is empty.\n"
     ]
    }
   ],
   "source": [
    "#41. Check if the intersection of two sets is empty.\n",
    "s1={1,2,3,4,5}\n",
    "s2={9,8,6,7}\n",
    "if s1.isdisjoint(s2):\n",
    "    print(\"The intersection of the two sets is empty.\")\n",
    "else:\n",
    "    print(\"The intersection of the two sets is not empty.\")"
   ]
  },
  {
   "cell_type": "code",
   "execution_count": 48,
   "id": "a1937100-ab9f-4700-96b9-ba3197fd492a",
   "metadata": {},
   "outputs": [
    {
     "name": "stdout",
     "output_type": "stream",
     "text": [
      "{0, 1, 2, 3, 5}\n"
     ]
    }
   ],
   "source": [
    "#42. Create a set of the first 5 Fibonacci numbers.\n",
    "def fibonacci(n):\n",
    "    fib_set = set()\n",
    "    a, b = 0, 1\n",
    "    for i in range(n):\n",
    "        fib_set.add(a)\n",
    "        c=a+b\n",
    "        a, b = b,c\n",
    "    return fib_set\n",
    "\n",
    "fib_set = fibonacci(6)\n",
    "print(fib_set)\n",
    "\n",
    "\n",
    "        "
   ]
  },
  {
   "cell_type": "code",
   "execution_count": 49,
   "id": "e8bcbf09-dd3f-441f-9b0f-6b9ac3a2cb36",
   "metadata": {},
   "outputs": [
    {
     "name": "stdout",
     "output_type": "stream",
     "text": [
      "[1, 2, 3, 4, 5, 6, 7, 8, 9]\n"
     ]
    }
   ],
   "source": [
    "#43. Remove duplicates from a list using sets.\n",
    "my_list = [1, 2, 2, 3, 4, 4, 5, 6, 6, 7, 8, 8, 9]\n",
    "my_set = set(my_list)\n",
    "my_list = list(my_set)\n",
    "print(my_list)"
   ]
  },
  {
   "cell_type": "code",
   "execution_count": 55,
   "id": "afbd4bec-0508-49a9-86a8-63a871637f6d",
   "metadata": {},
   "outputs": [
    {
     "name": "stdout",
     "output_type": "stream",
     "text": [
      "Set1 and Set2 have the same elements.\n",
      "Set1 and Set3 do not have the same elements.\n"
     ]
    }
   ],
   "source": [
    "#44. Check if two sets have the same elements, regardless of their count.\n",
    "set1 = {1, 2, 3}\n",
    "set2 = {3, 2, 1}\n",
    "set3 = {1, 2, 3, 4}\n",
    "\n",
    "if set1.issubset(set2) and set2.issubset(set1):\n",
    "    print(\"Set1 and Set2 have the same elements.\")\n",
    "else:\n",
    "    print(\"Set1 and Set2 do not have the same elements.\")\n",
    "\n",
    "if set1.issubset(set3) and set3.issubset(set1):\n",
    "    print(\"Set1 and Set3 have the same elements.\")\n",
    "else:\n",
    "    print(\"Set1 and Set3 do not have the same elements.\")\n",
    "\n"
   ]
  },
  {
   "cell_type": "code",
   "execution_count": 59,
   "id": "eba595b3-8103-42da-8153-ed5718c6d533",
   "metadata": {},
   "outputs": [
    {
     "name": "stdout",
     "output_type": "stream",
     "text": [
      "{1, 2, 4, 8, 16}\n"
     ]
    }
   ],
   "source": [
    "#45. Create a set of the first `n` powers of 2\n",
    "def powers_of_2(n):\n",
    "    powers = set()\n",
    "    for i in range(n):\n",
    "        powers.add(2 ** i)\n",
    "    return powers\n",
    "\n",
    "n = 5\n",
    "print(powers_of_2(n))"
   ]
  },
  {
   "cell_type": "code",
   "execution_count": 60,
   "id": "6ccf1205-41e6-4429-aa62-db4367e35c51",
   "metadata": {},
   "outputs": [
    {
     "name": "stdout",
     "output_type": "stream",
     "text": [
      "{3, 4, 5}\n"
     ]
    }
   ],
   "source": [
    "#46. Find the common elements between a set and a list.\n",
    "def common_elements(s, l):\n",
    "    s = set(s)\n",
    "    l = set(l)\n",
    "    return s.intersection(l)\n",
    "\n",
    "s = {1, 2, 3, 4, 5}\n",
    "l = [3, 4, 5, 6, 7]\n",
    "print(common_elements(s, l))\n"
   ]
  },
  {
   "cell_type": "code",
   "execution_count": 61,
   "id": "f79e7594-e5ff-42af-b823-54395a355d7b",
   "metadata": {},
   "outputs": [
    {
     "name": "stdout",
     "output_type": "stream",
     "text": [
      "{1, 3, 6, 10, 15}\n"
     ]
    }
   ],
   "source": [
    "#47. Create a set of the first `n` triangular numbers.\n",
    "def triangular_numbers(n):\n",
    "    triangular = set()\n",
    "    for i in range(1, n+1):\n",
    "        triangular.add(i * (i + 1) // 2)\n",
    "    return triangular\n",
    "\n",
    "n = 5\n",
    "print(triangular_numbers(n))"
   ]
  },
  {
   "cell_type": "code",
   "execution_count": 64,
   "id": "b95e9d60-8ea3-48b1-8149-276abab8e3c5",
   "metadata": {},
   "outputs": [
    {
     "name": "stdout",
     "output_type": "stream",
     "text": [
      "True\n"
     ]
    }
   ],
   "source": [
    "#48. Check if a set contains another set as a subset.\n",
    "s1={1,2,3,4,5}\n",
    "s2={3,4,5}\n",
    "res=(\"True\" if s1.issubset(s2) or s2.issubset(s1) else \"False\")\n",
    "print(res)"
   ]
  },
  {
   "cell_type": "code",
   "execution_count": 10,
   "id": "2b3a0cf8-3594-4c18-9505-68678a8045ff",
   "metadata": {},
   "outputs": [
    {
     "name": "stdout",
     "output_type": "stream",
     "text": [
      "{0, 1}\n"
     ]
    }
   ],
   "source": [
    "#49. Create a set of alternating 1s and 0s of length `n'\n",
    "def alternating_sequence(n):\n",
    "    alternating_set=set()\n",
    "    for i in range(n):\n",
    "        if i%2==0:\n",
    "            alternating_set.add(0)\n",
    "        else:\n",
    "            alternating_set.add(1)\n",
    "    return alternating_set\n",
    "result=alternating_sequence(3)\n",
    "print(result)\n",
    "    \n"
   ]
  },
  {
   "cell_type": "code",
   "execution_count": 7,
   "id": "482d4872-d3f1-4706-ae71-2c1b1e3fd63f",
   "metadata": {},
   "outputs": [
    {
     "name": "stdout",
     "output_type": "stream",
     "text": [
      "{1, 2, 3, 4, 5, 6, 7}\n"
     ]
    }
   ],
   "source": [
    "#50. Merge multiple sets into one.\n",
    "set1 = {1, 2, 3}\n",
    "set2 = {3, 4, 5}\n",
    "set3 = {5, 6, 7}\n",
    "\n",
    "merged_set = set1.union(set2, set3)\n",
    "\n",
    "print(merged_set)"
   ]
  }
 ],
 "metadata": {
  "kernelspec": {
   "display_name": "Python 3 (ipykernel)",
   "language": "python",
   "name": "python3"
  },
  "language_info": {
   "codemirror_mode": {
    "name": "ipython",
    "version": 3
   },
   "file_extension": ".py",
   "mimetype": "text/x-python",
   "name": "python",
   "nbconvert_exporter": "python",
   "pygments_lexer": "ipython3",
   "version": "3.10.8"
  }
 },
 "nbformat": 4,
 "nbformat_minor": 5
}
